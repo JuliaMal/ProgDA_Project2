{
 "cells": [
  {
   "cell_type": "markdown",
   "metadata": {},
   "source": [
    "# Programming for Data Analysis\n",
    "\n",
    "## Project 2 - Diamonds dataset simulation"
   ]
  },
  {
   "cell_type": "markdown",
   "metadata": {},
   "source": [
    "![alt text](d_image.jpg \"Diamonds\")"
   ]
  },
  {
   "cell_type": "markdown",
   "metadata": {},
   "source": [
    "## __Table of Contents:__\n",
    "   [1.&emsp;Problem statement](#problem)<br>\n",
    "   [2.&emsp;Diamond history](#history)<br>\n",
    "   [3.&emsp;Dataset Overview](#overview)<br>\n",
    "   [4.&emsp;Variables](#variables)<br>\n",
    "   &emsp;&emsp;[-&emsp;4.1 Price](#price)<br>\n",
    "   &emsp;&emsp;[-&emsp;4.2 Length](#length)<br>\n",
    "   &emsp;&emsp;[-&emsp;4.3 Width](#width)<br>\n",
    "   &emsp;&emsp;[-&emsp;4.4 Depth](#depth)<br>\n",
    "   &emsp;&emsp;[-&emsp;4.4 Carat](#carat)<br>\n",
    "   [5.&emsp;Simulated Dataset](#dataset)<br>\n",
    "   [6.&emsp;References](#references)<br>"
   ]
  },
  {
   "cell_type": "markdown",
   "metadata": {},
   "source": [
    "<a id=\"problem\"></a>"
   ]
  },
  {
   "cell_type": "markdown",
   "metadata": {},
   "source": [
    "## **1. Problem statement**\n",
    "\n",
    "The purpose of this project is to create a dataset by simulating a real-world phenomenon. Then, rather than collect data related to this phenomenon, such data will be synthesised using Python.\n",
    "As a real-world phenomenon I've choosen an existing dataset from this resource: [Diamonds dataset](https://www.kaggle.com/shivam2503/diamonds) [1]. This dataset contains the prices and other attributes of almost 54,000 diamonds."
   ]
  },
  {
   "cell_type": "markdown",
   "metadata": {},
   "source": [
    "<a id=\"history\"></a>"
   ]
  },
  {
   "cell_type": "markdown",
   "metadata": {},
   "source": [
    "## **2. Diamond history**\n",
    "The earliest diamonds were found in India in 4th century BC, although the youngest of these deposits were formed 900 million years ago. At the time of their discovery, diamonds were valued because of their strength and brilliance, and for their ability to refract light and engrave metal. Diamonds were worn as adornments, used as cutting tools, served as a talisman to ward off evil, and were believed to provide protection in battle. In the Dark Ages, diamonds were also used as a medical aid and were thought to cure illness and heal wounds when ingested.\n",
    "\n",
    "Surprisingly, diamonds share some common characteristics with coal. Both are composed of the most common substance on earth: carbon. What makes diamonds different from coal is the way the carbon atoms are arranged and how the carbon is formed. Diamonds are created when carbon is subjected to the extremely high pressures and temperatures found at the earth’s lithosphere, which lies approximately 90-240 miles below the earth’s surface. [2.]  Diamond has the highest hardness and thermal conductivity of any natural material, properties that are utilized in major industrial applications such as cutting and polishing tools. [3].\n",
    "\n",
    "The Cullinan Diamond, known as the “Star of Africa”, is the largest diamond in the world, a whopping 3,106 carats for a weight of 1.3 pounds. The diamond was originally found in 1905 in the Premier Mine in Pretoria, South Africa. The Cullinan diamond is not fully intact; instead, it has since been cut into nine large stones and nearly 100 smaller ones. This cutting, however, does not diminish the value, as all of the stones are valued at millions of dollars together. “Star of Africa I,” or “Cullinan I,” is the largest stone to come of the original Cullinan diamond. Estimated at 530 carats, the diamond is the largest cut colorless diamond in the world. Today, the diamond is located in the Tower of London in the British Sovereign’s Royal Scepter. The diamond is not alone there, as the Cullinan II, along with some of the other smaller cuts of the original Cullinan diamond, is also located in the Tower of London as part of the Crown Jewels. As far as the other cuts from the Cullinan diamond are concerned, Queen Elizabeth II holds a private collection inherited from her grandmother, Queen Mary, with seven of the major cuts and 96 minor cuts. [4]."
   ]
  },
  {
   "cell_type": "markdown",
   "metadata": {},
   "source": [
    "<a id=\"overview\"></a>"
   ]
  },
  {
   "cell_type": "markdown",
   "metadata": {},
   "source": [
    "## **3. Dataset overview**\n",
    "\n",
    "Content of the initial dataset:\n",
    "\n",
    "- **Price** - diamond price in US dollars in range (326-18823)\n",
    "- **Carat** - weight of diamond (0.2 - 5.01)\n",
    "- **Cut** - quality of the diamond's cut (Fair, Good, Very good, Premium, Ideal)\n",
    "- **Clarity** - measurement of how clear the diamond is (I1 (worst), SI2, SI1, VS2, VS1, VVS2, VVS1, IF (best))\n",
    "- **Length** - length in mm (0 - 10.74)\n",
    "- **Width** - width in mm (0 - 58.9)\n",
    "- **Depth** -depth in mm (0--31.8)\n",
    "- **Table** - width of top of diamond relative to widest point (43 - 95)\n",
    "\n",
    "It was decided for this project's purpose to focus on the Ideal diamond cut only. The following variables will be simulated: \n",
    "- price\n",
    "- carat\n",
    "- length\n",
    "- width\n",
    "- depth\n",
    "\n",
    "The size of the simulated dataset will be fixed to 20000 samples (data points)."
   ]
  },
  {
   "cell_type": "markdown",
   "metadata": {},
   "source": [
    "Let's take a look at the summary of the initial dataset, where diamonds cut is *Ideal*:"
   ]
  },
  {
   "cell_type": "code",
   "execution_count": 1,
   "metadata": {},
   "outputs": [],
   "source": [
    "# Importing the libraries\n",
    "import pandas as pd\n",
    "import numpy as np\n",
    "import scipy\n",
    "from scipy import stats\n",
    "import matplotlib.pyplot as plt\n",
    "import matplotlib\n",
    "import seaborn as sns"
   ]
  },
  {
   "cell_type": "code",
   "execution_count": 2,
   "metadata": {},
   "outputs": [
    {
     "data": {
      "text/html": [
       "<div>\n",
       "<style scoped>\n",
       "    .dataframe tbody tr th:only-of-type {\n",
       "        vertical-align: middle;\n",
       "    }\n",
       "\n",
       "    .dataframe tbody tr th {\n",
       "        vertical-align: top;\n",
       "    }\n",
       "\n",
       "    .dataframe thead th {\n",
       "        text-align: right;\n",
       "    }\n",
       "</style>\n",
       "<table border=\"1\" class=\"dataframe\">\n",
       "  <thead>\n",
       "    <tr style=\"text-align: right;\">\n",
       "      <th></th>\n",
       "      <th>price</th>\n",
       "      <th>carat</th>\n",
       "      <th>length</th>\n",
       "      <th>width</th>\n",
       "      <th>depth</th>\n",
       "      <th>cut</th>\n",
       "    </tr>\n",
       "  </thead>\n",
       "  <tbody>\n",
       "    <tr>\n",
       "      <th>0</th>\n",
       "      <td>326</td>\n",
       "      <td>0.23</td>\n",
       "      <td>3.95</td>\n",
       "      <td>3.98</td>\n",
       "      <td>2.43</td>\n",
       "      <td>Ideal</td>\n",
       "    </tr>\n",
       "    <tr>\n",
       "      <th>1</th>\n",
       "      <td>340</td>\n",
       "      <td>0.23</td>\n",
       "      <td>3.93</td>\n",
       "      <td>3.90</td>\n",
       "      <td>2.46</td>\n",
       "      <td>Ideal</td>\n",
       "    </tr>\n",
       "    <tr>\n",
       "      <th>2</th>\n",
       "      <td>344</td>\n",
       "      <td>0.31</td>\n",
       "      <td>4.35</td>\n",
       "      <td>4.37</td>\n",
       "      <td>2.71</td>\n",
       "      <td>Ideal</td>\n",
       "    </tr>\n",
       "    <tr>\n",
       "      <th>3</th>\n",
       "      <td>348</td>\n",
       "      <td>0.30</td>\n",
       "      <td>4.31</td>\n",
       "      <td>4.34</td>\n",
       "      <td>2.68</td>\n",
       "      <td>Ideal</td>\n",
       "    </tr>\n",
       "    <tr>\n",
       "      <th>4</th>\n",
       "      <td>403</td>\n",
       "      <td>0.33</td>\n",
       "      <td>4.49</td>\n",
       "      <td>4.51</td>\n",
       "      <td>2.78</td>\n",
       "      <td>Ideal</td>\n",
       "    </tr>\n",
       "  </tbody>\n",
       "</table>\n",
       "</div>"
      ],
      "text/plain": [
       "   price  carat  length  width  depth    cut\n",
       "0    326   0.23    3.95   3.98   2.43  Ideal\n",
       "1    340   0.23    3.93   3.90   2.46  Ideal\n",
       "2    344   0.31    4.35   4.37   2.71  Ideal\n",
       "3    348   0.30    4.31   4.34   2.68  Ideal\n",
       "4    403   0.33    4.49   4.51   2.78  Ideal"
      ]
     },
     "execution_count": 2,
     "metadata": {},
     "output_type": "execute_result"
    }
   ],
   "source": [
    "# Importing the tips dataset from the local file\n",
    "df = pd.read_csv(\"diamonds_ideal.csv\")\n",
    "\n",
    "# view first 5 rows\n",
    "df.head()"
   ]
  },
  {
   "cell_type": "markdown",
   "metadata": {},
   "source": [
    "First, we can use .describe() to view some descriptive facts of the dataset:"
   ]
  },
  {
   "cell_type": "code",
   "execution_count": 3,
   "metadata": {},
   "outputs": [
    {
     "data": {
      "text/html": [
       "<div>\n",
       "<style scoped>\n",
       "    .dataframe tbody tr th:only-of-type {\n",
       "        vertical-align: middle;\n",
       "    }\n",
       "\n",
       "    .dataframe tbody tr th {\n",
       "        vertical-align: top;\n",
       "    }\n",
       "\n",
       "    .dataframe thead th {\n",
       "        text-align: right;\n",
       "    }\n",
       "</style>\n",
       "<table border=\"1\" class=\"dataframe\">\n",
       "  <thead>\n",
       "    <tr style=\"text-align: right;\">\n",
       "      <th></th>\n",
       "      <th>price</th>\n",
       "      <th>carat</th>\n",
       "      <th>length</th>\n",
       "      <th>width</th>\n",
       "      <th>depth</th>\n",
       "    </tr>\n",
       "  </thead>\n",
       "  <tbody>\n",
       "    <tr>\n",
       "      <th>count</th>\n",
       "      <td>21543.000000</td>\n",
       "      <td>21543.000000</td>\n",
       "      <td>21543.000000</td>\n",
       "      <td>21543.000000</td>\n",
       "      <td>21543.000000</td>\n",
       "    </tr>\n",
       "    <tr>\n",
       "      <th>mean</th>\n",
       "      <td>3456.454254</td>\n",
       "      <td>0.702695</td>\n",
       "      <td>5.507727</td>\n",
       "      <td>5.518819</td>\n",
       "      <td>3.402192</td>\n",
       "    </tr>\n",
       "    <tr>\n",
       "      <th>std</th>\n",
       "      <td>3808.025720</td>\n",
       "      <td>0.432821</td>\n",
       "      <td>1.062848</td>\n",
       "      <td>1.058748</td>\n",
       "      <td>0.655919</td>\n",
       "    </tr>\n",
       "    <tr>\n",
       "      <th>min</th>\n",
       "      <td>326.000000</td>\n",
       "      <td>0.200000</td>\n",
       "      <td>3.760000</td>\n",
       "      <td>3.730000</td>\n",
       "      <td>2.300000</td>\n",
       "    </tr>\n",
       "    <tr>\n",
       "      <th>25%</th>\n",
       "      <td>878.000000</td>\n",
       "      <td>0.350000</td>\n",
       "      <td>4.540000</td>\n",
       "      <td>4.550000</td>\n",
       "      <td>2.800000</td>\n",
       "    </tr>\n",
       "    <tr>\n",
       "      <th>50%</th>\n",
       "      <td>1809.000000</td>\n",
       "      <td>0.540000</td>\n",
       "      <td>5.250000</td>\n",
       "      <td>5.260000</td>\n",
       "      <td>3.230000</td>\n",
       "    </tr>\n",
       "    <tr>\n",
       "      <th>75%</th>\n",
       "      <td>4678.000000</td>\n",
       "      <td>1.010000</td>\n",
       "      <td>6.440000</td>\n",
       "      <td>6.440000</td>\n",
       "      <td>3.980000</td>\n",
       "    </tr>\n",
       "    <tr>\n",
       "      <th>max</th>\n",
       "      <td>18806.000000</td>\n",
       "      <td>3.500000</td>\n",
       "      <td>9.650000</td>\n",
       "      <td>9.590000</td>\n",
       "      <td>6.030000</td>\n",
       "    </tr>\n",
       "  </tbody>\n",
       "</table>\n",
       "</div>"
      ],
      "text/plain": [
       "              price         carat        length         width         depth\n",
       "count  21543.000000  21543.000000  21543.000000  21543.000000  21543.000000\n",
       "mean    3456.454254      0.702695      5.507727      5.518819      3.402192\n",
       "std     3808.025720      0.432821      1.062848      1.058748      0.655919\n",
       "min      326.000000      0.200000      3.760000      3.730000      2.300000\n",
       "25%      878.000000      0.350000      4.540000      4.550000      2.800000\n",
       "50%     1809.000000      0.540000      5.250000      5.260000      3.230000\n",
       "75%     4678.000000      1.010000      6.440000      6.440000      3.980000\n",
       "max    18806.000000      3.500000      9.650000      9.590000      6.030000"
      ]
     },
     "execution_count": 3,
     "metadata": {},
     "output_type": "execute_result"
    }
   ],
   "source": [
    "df.describe()"
   ]
  },
  {
   "cell_type": "markdown",
   "metadata": {},
   "source": [
    "Here's a quick breakdown of the above as it relates to this particular dataset:\n",
    "\n",
    "- _**count**:_ there are 21543 rows in the dataset.\n",
    "- _**mean**:_ the average value of the variable.\n",
    "- _**std**:_ the standard deviation. Standard Deviation tells how measurements for a group are spread out from the average (mean), or expected value. A low standard deviation means that most of the numbers are close to the average. A high standard deviation means that the numbers are more spread out. \n",
    "- _**min**:_ the smallest value in the list of the particular variable\n",
    "- _**25%**:_ the 25th percentile. Shows that 25% of the data are below this value.\n",
    "- _**50%**:_ the median, this is the measure of central tendency. To find the median, we arrange the observations in order from smallest to largest value. If there is an odd number of observations, the median is the middle value. If there is an even number of observations, the median is the average of the two middle values.\n",
    "- _**75%**:_ the 75th percentile. Shows that 75% of the data are below this value.\n",
    "- _**max**:_ the highest value."
   ]
  },
  {
   "cell_type": "markdown",
   "metadata": {},
   "source": [
    "From the descriptive statistics we can see that the initial dataset has 21543 records. The price of the diamonds varies between 326 and 18806 USD. The weight of these diamonds is in range 0.2 - 3.5 carats. The length is similar to its width and varies between 3.7 and 9.6 mm. The range for diamonds depth is between 2.3 and 6.0 mm.\n",
    "\n",
    "After analysis of the descriptive statistics we can come up with some rules for our simulated dataset:\n",
    "- price: non-zero positive integer. To be more precised with the simulation, the minimm price of a diamond shouldn't be below 300 USD\n",
    "- carat: non-zero positive number with two decimal places. Again, we will set the min weight for our diamond as per initial dataset - 0.2\n",
    "- lenght: non-zero positive number with two decimal places. The lower boundary is 3.76 mm\n",
    "- width: non-zero positive number with two decimal places.\n",
    "- depth: non-zero positive number with two decimal places. \n",
    "\n",
    "For easier calculation our simulated dataset will contain 20000 records."
   ]
  },
  {
   "cell_type": "markdown",
   "metadata": {},
   "source": [
    "We also can visually represent the distribution of the variables using a `histogram`.\n",
    "\n",
    "Histogram below shows frequency distribution for a Price and Carat in an initial dataset."
   ]
  },
  {
   "cell_type": "code",
   "execution_count": 4,
   "metadata": {},
   "outputs": [
    {
     "data": {
      "text/plain": [
       "<matplotlib.axes._subplots.AxesSubplot at 0x2cd90d79898>"
      ]
     },
     "execution_count": 4,
     "metadata": {},
     "output_type": "execute_result"
    },
    {
     "data": {
      "image/png": "[encoded data removed]",
      "text/plain": [
       "<Figure size 1440x432 with 2 Axes>"
      ]
     },
     "metadata": {
      "needs_background": "light"
     },
     "output_type": "display_data"
    }
   ],
   "source": [
    "fig1 = plt.figure(figsize=(20,6))\n",
    "fig1.subplots_adjust(top=0.85, wspace=0.3)\n",
    "\n",
    "# 1 row, 3 columns, and we'd like the first element.\n",
    "ax1 = plt.subplot(1, 2, 1)\n",
    "sns.distplot(df['price'], ax=ax1, color=\"rebeccapurple\", bins = 10)\n",
    "\n",
    "# 1 row, 2 columns, and we'd like the second element.\n",
    "ax2 = plt.subplot(1, 2, 2)\n",
    "sns.distplot(df['carat'], ax=ax2, color=\"rebeccapurple\", bins = 10)"
   ]
  },
  {
   "cell_type": "markdown",
   "metadata": {},
   "source": [
    "Now let's plot the measurements of the diamonds (Length, Width and Depth):"
   ]
  },
  {
   "cell_type": "code",
   "execution_count": 5,
   "metadata": {},
   "outputs": [
    {
     "data": {
      "text/plain": [
       "<matplotlib.axes._subplots.AxesSubplot at 0x2cd9114d400>"
      ]
     },
     "execution_count": 5,
     "metadata": {},
     "output_type": "execute_result"
    },
    {
     "data": {
      "image/png": "[encoded data removed]",
      "text/plain": [
       "<Figure size 1440x432 with 3 Axes>"
      ]
     },
     "metadata": {
      "needs_background": "light"
     },
     "output_type": "display_data"
    }
   ],
   "source": [
    "fig2 = plt.figure(figsize=(20,6))\n",
    "fig2.subplots_adjust(top=0.85, wspace=0.3)\n",
    "\n",
    "# 1 row, 3 columns, and we'd like the first element.\n",
    "ax3 = plt.subplot(1, 3, 1)\n",
    "sns.distplot(df['length'], ax=ax3, color=\"rebeccapurple\", bins = 10)\n",
    "\n",
    "# 1 row, 2 columns, and we'd like the second element.\n",
    "ax4 = plt.subplot(1, 3, 2)\n",
    "sns.distplot(df['width'], ax=ax4, color=\"rebeccapurple\", bins = 10)\n",
    "\n",
    "# 1 row, 2 columns, and we'd like the third element.\n",
    "ax5 = plt.subplot(1, 3, 3)\n",
    "sns.distplot(df['depth'], ax=ax5, color=\"rebeccapurple\", bins = 10)"
   ]
  },
  {
   "cell_type": "markdown",
   "metadata": {},
   "source": [
    "<a id=\"variables\"></a>"
   ]
  },
  {
   "cell_type": "markdown",
   "metadata": {},
   "source": [
    "## **4. Variables**\n",
    "\n",
    "In this section we will be going to synthesise the following variables:\n",
    "\n",
    "- price\n",
    "- carat\n",
    "- length\n",
    "- width\n",
    "- depth\n",
    "\n",
    "As was stated earlier, the size of the simulated dataset will be fixed to 20000 samples (data points)."
   ]
  },
  {
   "cell_type": "markdown",
   "metadata": {},
   "source": [
    "<a id=\"price\"></a>"
   ]
  },
  {
   "cell_type": "markdown",
   "metadata": {},
   "source": [
    "### **4.1 Price**"
   ]
  },
  {
   "cell_type": "markdown",
   "metadata": {},
   "source": [
    "In this section we will be looking closer at the first measure - price and the way how we are going to synthesise it."
   ]
  },
  {
   "cell_type": "markdown",
   "metadata": {},
   "source": [
    "Looking at the Price histogram above, we can notice that the histogram is in a shape of the gamma-distribution. `Gamma distribution` is a right skewed distribution used for continuous variables. This is due to its flexibility in the choice of the shape and scale parameters. The scale parameter determines where the bulk of the observations lies, and the shape parameter determines how the distribution will look. E.g.:"
   ]
  },
  {
   "cell_type": "code",
   "execution_count": 6,
   "metadata": {},
   "outputs": [
    {
     "data": {
      "text/plain": [
       "<matplotlib.axes._subplots.AxesSubplot at 0x2cd9114dac8>"
      ]
     },
     "execution_count": 6,
     "metadata": {},
     "output_type": "execute_result"
    },
    {
     "data": {
      "image/png": "[encoded data removed]",
      "text/plain": [
       "<Figure size 432x288 with 1 Axes>"
      ]
     },
     "metadata": {
      "needs_background": "light"
     },
     "output_type": "display_data"
    }
   ],
   "source": [
    "gamma = np.random.gamma(1, 2000, 20000)\n",
    "sns.distplot(gamma, color = \"rebeccapurple\")"
   ]
  },
  {
   "cell_type": "markdown",
   "metadata": {},
   "source": [
    "The graph above is just random gamma-distribution, and here is our histogram of the price:"
   ]
  },
  {
   "cell_type": "code",
   "execution_count": 7,
   "metadata": {},
   "outputs": [
    {
     "data": {
      "text/plain": [
       "<matplotlib.axes._subplots.AxesSubplot at 0x2cd90f80ac8>"
      ]
     },
     "execution_count": 7,
     "metadata": {},
     "output_type": "execute_result"
    },
    {
     "data": {
      "image/png": "[encoded data removed]",
      "text/plain": [
       "<Figure size 432x288 with 1 Axes>"
      ]
     },
     "metadata": {
      "needs_background": "light"
     },
     "output_type": "display_data"
    }
   ],
   "source": [
    "sns.distplot(df['price'], color = \"rebeccapurple\", bins = 70)"
   ]
  },
  {
   "cell_type": "markdown",
   "metadata": {},
   "source": [
    "The first plot is an example of the ideal gamma-distribution plotting. Even though that we can clearly see some similarities with the second plot, they are not the same. To make it more realistic and close to our initial price distribution, we will add some random numbers to our gamma-distribution dataset using numpy.random.normal distribution.\n",
    "\n",
    "*Normal distribution*, also known as *Gaussian distribution*, is one of the most common distribution and is used for continuous variables. It is bell shaped curve which is neither too skewed not too flat and has parameters: Mean and Standard Deviation."
   ]
  },
  {
   "cell_type": "code",
   "execution_count": 8,
   "metadata": {},
   "outputs": [],
   "source": [
    "s_price = np.random.gamma(1.2, 150, 20000).astype(np.int)+ np.random.normal(0.0, 6000, 20000).astype(np.int)"
   ]
  },
  {
   "cell_type": "markdown",
   "metadata": {},
   "source": [
    "As per our set of the requirements for the simulated price, the price cannot be below 300 USD. Let's check what we got:"
   ]
  },
  {
   "cell_type": "code",
   "execution_count": 9,
   "metadata": {},
   "outputs": [
    {
     "name": "stdout",
     "output_type": "stream",
     "text": [
      "Minimum price: -23388\n"
     ]
    }
   ],
   "source": [
    "# Calculating minimum price\n",
    "print('Minimum price: ' + str(np.amin(s_price).round(2)))"
   ]
  },
  {
   "cell_type": "markdown",
   "metadata": {},
   "source": [
    "Now let's transform all prices that are below 300 USD range into the prices in range [300 - 2500], as looking at the initial price histogram, we can clearly see that most of the prices are distributed within this range."
   ]
  },
  {
   "cell_type": "code",
   "execution_count": 10,
   "metadata": {},
   "outputs": [],
   "source": [
    "s_price[s_price < 300] = np.random.uniform(300, 2500, len(s_price[s_price < 300]))"
   ]
  },
  {
   "cell_type": "markdown",
   "metadata": {},
   "source": [
    "Let's check the minimum price again - now it shouldn't be below 300 USD:"
   ]
  },
  {
   "cell_type": "code",
   "execution_count": 11,
   "metadata": {},
   "outputs": [
    {
     "name": "stdout",
     "output_type": "stream",
     "text": [
      "Minimum price: 300\n"
     ]
    }
   ],
   "source": [
    "print('Minimum price: ' + str(np.amin(s_price).round(2)))"
   ]
  },
  {
   "cell_type": "markdown",
   "metadata": {},
   "source": [
    "Time to visualize our simulated price:"
   ]
  },
  {
   "cell_type": "code",
   "execution_count": 12,
   "metadata": {},
   "outputs": [
    {
     "data": {
      "text/plain": [
       "<matplotlib.axes._subplots.AxesSubplot at 0x2cd913ef240>"
      ]
     },
     "execution_count": 12,
     "metadata": {},
     "output_type": "execute_result"
    },
    {
     "data": {
      "image/png": "[encoded data removed]",
      "text/plain": [
       "<Figure size 432x288 with 1 Axes>"
      ]
     },
     "metadata": {
      "needs_background": "light"
     },
     "output_type": "display_data"
    }
   ],
   "source": [
    "sns.distplot((s_price), color=\"rebeccapurple\", bins = 70)"
   ]
  },
  {
   "cell_type": "markdown",
   "metadata": {},
   "source": [
    "If we won't take into consideration a huge spike of the low prices' distribution in the initial Price diagram, we got quite similar plot with smoother boundaries. Let's check what is the mean and the standard deviation of the simulated price:"
   ]
  },
  {
   "cell_type": "code",
   "execution_count": 13,
   "metadata": {},
   "outputs": [
    {
     "name": "stdout",
     "output_type": "stream",
     "text": [
      "Mean: 3162\n",
      "Standard deviation: 3128\n"
     ]
    }
   ],
   "source": [
    "sim_mean_p = np.mean(s_price).astype(np.int)\n",
    "sim_std_p = np.std(s_price).astype(np.int)\n",
    "\n",
    "print('Mean: ' + str(sim_mean_p))\n",
    "print('Standard deviation: ' + str(sim_std_p))"
   ]
  },
  {
   "cell_type": "markdown",
   "metadata": {},
   "source": [
    "If we compare the Mean and Standard deviation of the simulated price with the actual price (Mean = 3457, Std = 3808), we could see that there's only a small difference in these values."
   ]
  },
  {
   "cell_type": "markdown",
   "metadata": {},
   "source": [
    "Therefore we can assume that our simulated price is close enough to the actual data."
   ]
  },
  {
   "cell_type": "markdown",
   "metadata": {},
   "source": [
    "<a id=\"length\"></a>"
   ]
  },
  {
   "cell_type": "markdown",
   "metadata": {},
   "source": [
    "### **4.2 Length**"
   ]
  },
  {
   "cell_type": "markdown",
   "metadata": {},
   "source": [
    "Now we can go to the next variable - diamond length. We have already looked at the Price variable and have simulated this measure. Let's see if there is any correlation between the length and the price. For this purpose we will use seaborn plotting capabilities."
   ]
  },
  {
   "cell_type": "code",
   "execution_count": 14,
   "metadata": {},
   "outputs": [
    {
     "data": {
      "text/plain": [
       "<matplotlib.collections.PathCollection at 0x2cd91546f98>"
      ]
     },
     "execution_count": 14,
     "metadata": {},
     "output_type": "execute_result"
    },
    {
     "data": {
      "image/png": "[encoded data removed]",
      "text/plain": [
       "<Figure size 432x288 with 1 Axes>"
      ]
     },
     "metadata": {
      "needs_background": "light"
     },
     "output_type": "display_data"
    }
   ],
   "source": [
    "plt.scatter(df['price'], df['length'], color = \"rebeccapurple\")"
   ]
  },
  {
   "cell_type": "markdown",
   "metadata": {},
   "source": [
    "From the plot above we can clearly see that price depends on the length. "
   ]
  },
  {
   "cell_type": "markdown",
   "metadata": {},
   "source": [
    "Let's try to fit a best line into this correlation. For this purpose we will be using `scipy.optimize.curve_fit`.[6]. As the straigh line won't fit our correlation graph, we will be fitting a logarithmic curve (`y = a + b * log(x)`), wich should suit our purpose much better than the straight line."
   ]
  },
  {
   "cell_type": "code",
   "execution_count": 15,
   "metadata": {},
   "outputs": [
    {
     "data": {
      "text/plain": [
       "(array([-2.36400835,  1.03044792]), array([[ 2.35643034e-04, -3.03350295e-05],\n",
       "        [-3.03350295e-05,  3.97100067e-06]]))"
      ]
     },
     "execution_count": 15,
     "metadata": {},
     "output_type": "execute_result"
    }
   ],
   "source": [
    "x_p = df['price']\n",
    "y_l = df['length']\n",
    "\n",
    "# code adopted from Stack Overflow (More details in the Reference section, [5])\n",
    "scipy.optimize.curve_fit(lambda t, a, b: a + b*np.log(t),  x_p,  y_l)"
   ]
  },
  {
   "cell_type": "markdown",
   "metadata": {},
   "source": [
    "The first array contains **a** and **b** values (-2.36435806 and 1.03049703, respectively), that we're going to use to build our best fit line. Let's put our **a** and **b** values that we got earlier into a logarithmic curve formula: y = a + b * log(x). The formula for **y** values of the best fit line is: `y ≈ -2.36435806 + 1.03049703 * log(x)`\n",
    "\n",
    "Now we can update our correlation plot with the best fit line."
   ]
  },
  {
   "cell_type": "code",
   "execution_count": 16,
   "metadata": {},
   "outputs": [
    {
     "data": {
      "image/png": "[encoded data removed]",
      "text/plain": [
       "<Figure size 432x288 with 1 Axes>"
      ]
     },
     "metadata": {
      "needs_background": "light"
     },
     "output_type": "display_data"
    }
   ],
   "source": [
    "plt.figure()\n",
    "\n",
    "# Plot price versus length with black dots.\n",
    "plt.plot(x_p, y_l, 'mo', label = \"Original Data\")\n",
    "\n",
    "# Overlay the best fit line on the plot.\n",
    "# provide the limits for x1 (min price & max price)\n",
    "x = np.arange(326, 18806, 1)\n",
    "plt.plot(x, -2.36435806 + 1.03049703 * np.log(x), 'k-', label=r\"Best fit line\")\n",
    "plt.legend()\n",
    "plt.show()"
   ]
  },
  {
   "cell_type": "markdown",
   "metadata": {},
   "source": [
    "Based on the graph, we are ok to take the best fit line to simulate the diamond length values. We will be using formula of the best fit line and adding some random numbers from **random.normal** distribution:"
   ]
  },
  {
   "cell_type": "code",
   "execution_count": 17,
   "metadata": {},
   "outputs": [],
   "source": [
    "s_length = (-2.36435806 + 1.03049703 * np.log(s_price)).round(2) + (np.random.normal(0.0, 0.7, s_price.size)).round(2)"
   ]
  },
  {
   "cell_type": "markdown",
   "metadata": {},
   "source": [
    "Let's check the minimum and maximum values we got in our simulted lenght:"
   ]
  },
  {
   "cell_type": "code",
   "execution_count": 18,
   "metadata": {},
   "outputs": [
    {
     "name": "stdout",
     "output_type": "stream",
     "text": [
      "Minimum length: 1.23\n",
      "Maximum length: 9.9\n"
     ]
    }
   ],
   "source": [
    "print('Minimum length: ' + str(np.amin(s_length)))\n",
    "print('Maximum length: ' + str(np.amax(s_length)))"
   ]
  },
  {
   "cell_type": "markdown",
   "metadata": {},
   "source": [
    "If we check the min and max for our initial lenght, we can notice that the frames of the simulated lenght are wider."
   ]
  },
  {
   "cell_type": "code",
   "execution_count": 19,
   "metadata": {},
   "outputs": [
    {
     "data": {
      "text/plain": [
       "count    21543.000000\n",
       "mean         5.507727\n",
       "std          1.062848\n",
       "min          3.760000\n",
       "25%          4.540000\n",
       "50%          5.250000\n",
       "75%          6.440000\n",
       "max          9.650000\n",
       "Name: length, dtype: float64"
      ]
     },
     "execution_count": 19,
     "metadata": {},
     "output_type": "execute_result"
    }
   ],
   "source": [
    "df['length'].describe()"
   ]
  },
  {
   "cell_type": "markdown",
   "metadata": {},
   "source": [
    "Therefore we will add the boundaries by putting the fojlowing rule in place:\n",
    "- if the length is lower than 3.76 replace it with any random number from the normal distribution (with a mean = 4 and standard deviation = 0.1)"
   ]
  },
  {
   "cell_type": "code",
   "execution_count": 20,
   "metadata": {},
   "outputs": [],
   "source": [
    "s_length[s_length < 3.76] = (np.random.normal(4, 0.1, len(s_length[s_length < 3.76]))).round(2)"
   ]
  },
  {
   "cell_type": "markdown",
   "metadata": {},
   "source": [
    "Let's check the minimum length again:"
   ]
  },
  {
   "cell_type": "code",
   "execution_count": 21,
   "metadata": {},
   "outputs": [
    {
     "name": "stdout",
     "output_type": "stream",
     "text": [
      "Minimum length: 3.68\n"
     ]
    }
   ],
   "source": [
    "print('Minimum length: ' + str(np.amin(s_length)))"
   ]
  },
  {
   "cell_type": "markdown",
   "metadata": {},
   "source": [
    "Now looks much better. Let's compare the Mean and a Standard Deviation of the initial length and the simulated:"
   ]
  },
  {
   "cell_type": "code",
   "execution_count": 22,
   "metadata": {},
   "outputs": [
    {
     "name": "stdout",
     "output_type": "stream",
     "text": [
      "Mean of the simulated length: 5.57\n",
      "Standard deviation of the simulated length: 1.09\n"
     ]
    }
   ],
   "source": [
    "sim_mean_l = np.mean(s_length).round(2)\n",
    "sim_std_l = np.std(s_length).round(2)\n",
    "\n",
    "print('Mean of the simulated length: ' + str(sim_mean_l))\n",
    "print('Standard deviation of the simulated length: ' + str(sim_std_l))"
   ]
  },
  {
   "cell_type": "markdown",
   "metadata": {},
   "source": [
    "The initial mean is 5.51 and standard deviation is 1.06. The value of simulated figures are close to the initial ones."
   ]
  },
  {
   "cell_type": "markdown",
   "metadata": {},
   "source": [
    "<a id=\"width\"></a>"
   ]
  },
  {
   "cell_type": "markdown",
   "metadata": {},
   "source": [
    "### **4.3 Width**"
   ]
  },
  {
   "cell_type": "markdown",
   "metadata": {},
   "source": [
    "Let's take a look at the next variable - Diamond Width and its correlation with the Diamond Length using seaborn regplot."
   ]
  },
  {
   "cell_type": "code",
   "execution_count": 23,
   "metadata": {},
   "outputs": [
    {
     "data": {
      "text/plain": [
       "<matplotlib.axes._subplots.AxesSubplot at 0x2cd91c3ca90>"
      ]
     },
     "execution_count": 23,
     "metadata": {},
     "output_type": "execute_result"
    },
    {
     "data": {
      "image/png": "[encoded data removed]",
      "text/plain": [
       "<Figure size 432x288 with 1 Axes>"
      ]
     },
     "metadata": {
      "needs_background": "light"
     },
     "output_type": "display_data"
    }
   ],
   "source": [
    "sns.regplot('width', 'length', data=df, color=\"rebeccapurple\")"
   ]
  },
  {
   "cell_type": "markdown",
   "metadata": {},
   "source": [
    "From the graph above we can clearly see the positive linear correlation between length and width. The way *the best fit line* fits the model, we can tell that the width is equal the length (as the graph shows that y = x). In this case we will simulate the width data by taking simulated length and adding some small random numbers from **random.normal** distribution."
   ]
  },
  {
   "cell_type": "code",
   "execution_count": 24,
   "metadata": {},
   "outputs": [],
   "source": [
    "s_width = (s_length + np.random.normal(0.1, 0.05, s_length.size)).round(2)"
   ]
  },
  {
   "cell_type": "markdown",
   "metadata": {},
   "source": [
    "Let's calculate the min, max, mean and standard deviation of the simulated width."
   ]
  },
  {
   "cell_type": "code",
   "execution_count": 25,
   "metadata": {},
   "outputs": [
    {
     "name": "stdout",
     "output_type": "stream",
     "text": [
      "Minimum width: 3.72\n",
      "Maximum width: 9.96\n",
      "Mean of simulated width: 5.67\n",
      "Standard deviation of simulated width: 1.1\n"
     ]
    }
   ],
   "source": [
    "print('Minimum width: ' + str(np.amin(s_width).round(2)))\n",
    "print('Maximum width: ' + str(np.amax(s_width).round(2)))\n",
    "\n",
    "sim_mean_w = np.mean(s_width).round(2)\n",
    "sim_std_w = np.std(s_width).round(2)\n",
    "\n",
    "print('Mean of simulated width: ' + str(sim_mean_w))\n",
    "print('Standard deviation of simulated width: ' + str(sim_std_w))"
   ]
  },
  {
   "cell_type": "markdown",
   "metadata": {},
   "source": [
    "The comparison of min, max, mean and standard deviation is almost the same as for initial width dataset:"
   ]
  },
  {
   "cell_type": "code",
   "execution_count": 26,
   "metadata": {},
   "outputs": [
    {
     "data": {
      "text/plain": [
       "count    21543.000000\n",
       "mean         5.518819\n",
       "std          1.058748\n",
       "min          3.730000\n",
       "25%          4.550000\n",
       "50%          5.260000\n",
       "75%          6.440000\n",
       "max          9.590000\n",
       "Name: width, dtype: float64"
      ]
     },
     "execution_count": 26,
     "metadata": {},
     "output_type": "execute_result"
    }
   ],
   "source": [
    "df['width'].describe()"
   ]
  },
  {
   "cell_type": "markdown",
   "metadata": {},
   "source": [
    "Let's plot two graphs showing correlation between the length and width in the initial dataset and in the simulated:"
   ]
  },
  {
   "cell_type": "code",
   "execution_count": 27,
   "metadata": {},
   "outputs": [
    {
     "data": {
      "text/plain": [
       "<matplotlib.axes._subplots.AxesSubplot at 0x2cd91c62dd8>"
      ]
     },
     "execution_count": 27,
     "metadata": {},
     "output_type": "execute_result"
    },
    {
     "data": {
      "image/png": "[encoded data removed]",
      "text/plain": [
       "<Figure size 720x288 with 2 Axes>"
      ]
     },
     "metadata": {
      "needs_background": "light"
     },
     "output_type": "display_data"
    }
   ],
   "source": [
    "fig = plt.figure(figsize=(10,4))\n",
    "title = fig.suptitle(\"Length and width correlation\", fontsize=14)\n",
    "fig.subplots_adjust(top=0.85, wspace=0.3)\n",
    "\n",
    "ax1 = fig.add_subplot(1,2,1)\n",
    "ax1.set_title(\"Initial\")\n",
    "ax1.set_xlabel(\"Length\")\n",
    "ax1.set_ylabel(\"Width\") \n",
    "#sns.kdeplot(red_wine['sulphates'], ax=ax1, shade=True, color='r')\n",
    "sns.regplot('length', 'width', data=df, ax=ax1, color=\"rebeccapurple\")\n",
    "\n",
    "ax2 = fig.add_subplot(1,2,2)\n",
    "ax2.set_title(\"Simulation\")\n",
    "ax2.set_xlabel(\"Length\")\n",
    "ax2.set_ylabel(\"Width\") \n",
    "sns.regplot(s_length, s_width, ax=ax2, color=\"rebeccapurple\")"
   ]
  },
  {
   "cell_type": "markdown",
   "metadata": {},
   "source": [
    "Apart two outliers in the initial dataset, both plots look almost the same."
   ]
  },
  {
   "cell_type": "markdown",
   "metadata": {},
   "source": [
    "<a id=\"depth\"></a>"
   ]
  },
  {
   "cell_type": "markdown",
   "metadata": {},
   "source": [
    "### **4.4 Depth**"
   ]
  },
  {
   "cell_type": "markdown",
   "metadata": {},
   "source": [
    "The next variable that we are going to look at and simulate is Diamond Depth. Let's check if there is any correlation between the depth and the length of the diamonds."
   ]
  },
  {
   "cell_type": "code",
   "execution_count": 28,
   "metadata": {},
   "outputs": [
    {
     "data": {
      "text/plain": [
       "<matplotlib.collections.PathCollection at 0x2cd91d1eb00>"
      ]
     },
     "execution_count": 28,
     "metadata": {},
     "output_type": "execute_result"
    },
    {
     "data": {
      "image/png": "[encoded data removed]",
      "text/plain": [
       "<Figure size 432x288 with 1 Axes>"
      ]
     },
     "metadata": {
      "needs_background": "light"
     },
     "output_type": "display_data"
    }
   ],
   "source": [
    "plt.scatter(df['depth'], df['length'], color=\"rebeccapurple\")"
   ]
  },
  {
   "cell_type": "markdown",
   "metadata": {},
   "source": [
    "The graph above also shows a positive linear correlation between the length and the depth. But in this case, we see that y is not equal x. Let's try to fit *a best fit line*. First, we need to calculate the slope (**m**) and y-intercept (**c**):"
   ]
  },
  {
   "cell_type": "code",
   "execution_count": 29,
   "metadata": {},
   "outputs": [
    {
     "name": "stdout",
     "output_type": "stream",
     "text": [
      "m is 0.615852 and c is 0.010246.\n"
     ]
    }
   ],
   "source": [
    "l = df['length']\n",
    "d = df['depth']\n",
    "\n",
    "# First calculate the means of w and d.\n",
    "l_avg = np.mean(l)\n",
    "d_avg = np.mean(d)\n",
    "\n",
    "# Subtract means from w and d.\n",
    "l_zero = l - l_avg\n",
    "d_zero = d - d_avg\n",
    "\n",
    "# The best m is found by the following calculation.\n",
    "m = np.sum(l_zero * d_zero) / np.sum(l_zero * l_zero)\n",
    "\n",
    "# Use m from above to calculate the best c.\n",
    "c = d_avg - m * l_avg\n",
    "\n",
    "print(\"m is %8.6f and c is %6.6f.\" % (m, c))"
   ]
  },
  {
   "cell_type": "markdown",
   "metadata": {},
   "source": [
    "We can calculate slope and y-intercept using another method - `np.polyfit` function. [7, 8]. Let's check if we get the same numbers:"
   ]
  },
  {
   "cell_type": "code",
   "execution_count": 30,
   "metadata": {},
   "outputs": [
    {
     "data": {
      "text/plain": [
       "array([0.61585221, 0.01024587])"
      ]
     },
     "execution_count": 30,
     "metadata": {},
     "output_type": "execute_result"
    }
   ],
   "source": [
    "np.polyfit(l, d, 1)"
   ]
  },
  {
   "cell_type": "markdown",
   "metadata": {},
   "source": [
    "As you can see the slope and y-intercept values are exactly the same. Now we are going to plot our line (`y = 0.61527133 * x + 0.01297997`):"
   ]
  },
  {
   "cell_type": "code",
   "execution_count": 31,
   "metadata": {},
   "outputs": [
    {
     "data": {
      "image/png": "[encoded data removed]",
      "text/plain": [
       "<Figure size 432x288 with 1 Axes>"
      ]
     },
     "metadata": {
      "needs_background": "light"
     },
     "output_type": "display_data"
    }
   ],
   "source": [
    "#Plot w versus d with black dots.\n",
    "plt.plot(l, d, 'm.', label=\"Data\")\n",
    "\n",
    "# Overlay some lines on the plot.\n",
    "x = np.arange(3.5, 10.5, 1.0)\n",
    "plt.plot(x, m * x + c, 'k-', label=r\"Best fit line\")\n",
    "\n",
    "\n",
    "# Add a legend.\n",
    "plt.legend()\n",
    "\n",
    "# Add axis labels.\n",
    "plt.xlabel('Length')\n",
    "plt.ylabel('Depth')\n",
    "\n",
    "# Show the plot.\n",
    "plt.show()"
   ]
  },
  {
   "cell_type": "markdown",
   "metadata": {},
   "source": [
    "Now we will simulate the depth data by using our best fit line formula plus some random noise using **random.normal** distribution."
   ]
  },
  {
   "cell_type": "code",
   "execution_count": 32,
   "metadata": {},
   "outputs": [],
   "source": [
    "s_depth = ((0.61527133 * (s_length) + 0.01297997) + np.random.normal(0.0, 0.05, s_length.size)).round(2)"
   ]
  },
  {
   "cell_type": "markdown",
   "metadata": {},
   "source": [
    "Calculating min, max, mean and standard deviation for the simulated length:"
   ]
  },
  {
   "cell_type": "code",
   "execution_count": 33,
   "metadata": {},
   "outputs": [
    {
     "name": "stdout",
     "output_type": "stream",
     "text": [
      "Minimum depth: 2.18\n",
      "Maximum depth: 6.13\n",
      "Mean of simulated depth: 3.44\n",
      "Standard deviation of simulated depth: 0.67\n"
     ]
    }
   ],
   "source": [
    "print('Minimum depth: ' + str(np.amin(s_depth).round(2)))\n",
    "print('Maximum depth: ' + str(np.amax(s_depth).round(2)))\n",
    "\n",
    "sim_mean_d = np.mean(s_depth).round(2)\n",
    "sim_std_d = np.std(s_depth).round(2)\n",
    "\n",
    "print('Mean of simulated depth: ' + str(sim_mean_d))\n",
    "print('Standard deviation of simulated depth: ' + str(sim_std_d))"
   ]
  },
  {
   "cell_type": "markdown",
   "metadata": {},
   "source": [
    "If we compare the values to the initial dataset (below), we will see that the difference is minimal."
   ]
  },
  {
   "cell_type": "code",
   "execution_count": 34,
   "metadata": {},
   "outputs": [
    {
     "data": {
      "text/plain": [
       "count    21543.000000\n",
       "mean         3.402192\n",
       "std          0.655919\n",
       "min          2.300000\n",
       "25%          2.800000\n",
       "50%          3.230000\n",
       "75%          3.980000\n",
       "max          6.030000\n",
       "Name: depth, dtype: float64"
      ]
     },
     "execution_count": 34,
     "metadata": {},
     "output_type": "execute_result"
    }
   ],
   "source": [
    "df['depth'].describe()"
   ]
  },
  {
   "cell_type": "markdown",
   "metadata": {},
   "source": [
    " Let's visualize correlation between length and depth (initial vs simulated):"
   ]
  },
  {
   "cell_type": "code",
   "execution_count": 35,
   "metadata": {},
   "outputs": [
    {
     "data": {
      "text/plain": [
       "<matplotlib.axes._subplots.AxesSubplot at 0x2cd91df4828>"
      ]
     },
     "execution_count": 35,
     "metadata": {},
     "output_type": "execute_result"
    },
    {
     "data": {
      "image/png": "[encoded data removed]",
      "text/plain": [
       "<Figure size 720x288 with 2 Axes>"
      ]
     },
     "metadata": {
      "needs_background": "light"
     },
     "output_type": "display_data"
    }
   ],
   "source": [
    "fig = plt.figure(figsize=(10,4))\n",
    "title = fig.suptitle(\"Length and depth correlation\", fontsize=14)\n",
    "fig.subplots_adjust(top=0.85, wspace=0.3)\n",
    "\n",
    "ax1 = fig.add_subplot(1,2,1)\n",
    "ax1.set_title(\"Initial\")\n",
    "ax1.set_xlabel(\"Length\")\n",
    "ax1.set_ylabel(\"Depth\") \n",
    "sns.regplot('length', 'depth', data=df, ax=ax1, color=\"rebeccapurple\")\n",
    "\n",
    "ax2 = fig.add_subplot(1,2,2)\n",
    "ax2.set_title(\"Simulation\")\n",
    "ax2.set_xlabel(\"Length\")\n",
    "ax2.set_ylabel(\"Depth\") \n",
    "sns.regplot(s_length, s_depth, ax=ax2, color=\"rebeccapurple\")"
   ]
  },
  {
   "cell_type": "markdown",
   "metadata": {},
   "source": [
    "Let's look at the Width and Depth correlation in the initial dataset and the simulated one:"
   ]
  },
  {
   "cell_type": "code",
   "execution_count": 36,
   "metadata": {},
   "outputs": [
    {
     "data": {
      "text/plain": [
       "<matplotlib.axes._subplots.AxesSubplot at 0x2cd92e99278>"
      ]
     },
     "execution_count": 36,
     "metadata": {},
     "output_type": "execute_result"
    },
    {
     "data": {
      "image/png": "[encoded data removed]",
      "text/plain": [
       "<Figure size 720x288 with 2 Axes>"
      ]
     },
     "metadata": {
      "needs_background": "light"
     },
     "output_type": "display_data"
    }
   ],
   "source": [
    "fig = plt.figure(figsize=(10,4))\n",
    "title = fig.suptitle(\"Width and depth correlation\", fontsize=14)\n",
    "fig.subplots_adjust(top=0.85, wspace=0.3)\n",
    "\n",
    "ax1 = fig.add_subplot(1,2,1)\n",
    "ax1.set_title(\"Initial\")\n",
    "ax1.set_xlabel(\"Width\")\n",
    "ax1.set_ylabel(\"Depth\")\n",
    "sns.regplot('width', 'depth', data=df, ax=ax1, color=\"rebeccapurple\")\n",
    "\n",
    "ax2 = fig.add_subplot(1,2,2)\n",
    "ax2.set_title(\"Simulation\")\n",
    "ax2.set_xlabel(\"Width\")\n",
    "ax2.set_ylabel(\"Depth\") \n",
    "sns.regplot(s_width, s_depth, ax=ax2, color=\"rebeccapurple\")"
   ]
  },
  {
   "cell_type": "markdown",
   "metadata": {},
   "source": [
    "These two plots looks very similar (excluding few outliers in the Initial sub-plot)."
   ]
  },
  {
   "cell_type": "markdown",
   "metadata": {},
   "source": [
    "<a id=\"carat\"></a>"
   ]
  },
  {
   "cell_type": "markdown",
   "metadata": {},
   "source": [
    "### **4.5 Carat**"
   ]
  },
  {
   "cell_type": "code",
   "execution_count": 37,
   "metadata": {},
   "outputs": [
    {
     "data": {
      "text/plain": [
       "count    21543.000000\n",
       "mean         0.702695\n",
       "std          0.432821\n",
       "min          0.200000\n",
       "25%          0.350000\n",
       "50%          0.540000\n",
       "75%          1.010000\n",
       "max          3.500000\n",
       "Name: carat, dtype: float64"
      ]
     },
     "execution_count": 37,
     "metadata": {},
     "output_type": "execute_result"
    }
   ],
   "source": [
    "df['carat'].describe()"
   ]
  },
  {
   "cell_type": "markdown",
   "metadata": {},
   "source": [
    "Let’s see how we can estimate the diamond weight (carats) by looking at its measurements. There is a formula to calculate the diamond estimate weight:\n",
    "Estimated weight = Lenght * Width * Depth * Coefficient. [10].\n",
    "\n",
    "Coefficient usually varies between 0.0057 & 0.0066 depending on the diamond shape. To create our simulated carat values, we will be using simulated length (s_length), simulated width (s_width) and simulated depth (s_depth). To get the coefficient values we will be using the **random.uniform** distribution in the range [0.0057 - 0.0066]. E.g. round shaped diamonds have coefficient 0.0061, ovals - 0,0062, heart - 0.0059, triangles - 0.0057, etc. [11].\n",
    "\n",
    "*Random.uniform* distribution samples are uniformly distributed over the half-open interval: low - high (includes low, but excludes high). In other words, any value within the given interval is equally likely to be drawn. [10]."
   ]
  },
  {
   "cell_type": "code",
   "execution_count": 38,
   "metadata": {},
   "outputs": [],
   "source": [
    "# for coefficient calculation is used random.uniform distribution in range between 0.0057 & 0.0066 \n",
    "# (by defaulf the upper-range is not included, therefore we will be adding 0.0001 to 0.0066)\n",
    "s_carat = (s_length * s_width * s_depth * np.random.uniform(0.0057, 0.0066 + 0.0001, s_length.size)).round(2)"
   ]
  },
  {
   "cell_type": "markdown",
   "metadata": {},
   "source": [
    "After we have simulated our carat values, let compare the distribution of the initial carat dataset and the simulated one:"
   ]
  },
  {
   "cell_type": "code",
   "execution_count": 39,
   "metadata": {},
   "outputs": [
    {
     "data": {
      "text/plain": [
       "<matplotlib.axes._subplots.AxesSubplot at 0x2cd92f62ef0>"
      ]
     },
     "execution_count": 39,
     "metadata": {},
     "output_type": "execute_result"
    },
    {
     "data": {
      "image/png": "[encoded data removed]",
      "text/plain": [
       "<Figure size 720x288 with 2 Axes>"
      ]
     },
     "metadata": {
      "needs_background": "light"
     },
     "output_type": "display_data"
    }
   ],
   "source": [
    "fig = plt.figure(figsize=(10,4))\n",
    "title = fig.suptitle(\"Distribution comparison\", fontsize=14)\n",
    "fig.subplots_adjust(top=0.85, wspace=0.3)\n",
    "\n",
    "ax1 = fig.add_subplot(1,2,1)\n",
    "ax1.set_title(\"Initial\")\n",
    "sns.distplot(df['carat'], color=\"rebeccapurple\", bins = 10)\n",
    "\n",
    "ax2 = fig.add_subplot(1,2,2)\n",
    "ax2.set_title(\"Simulation\")\n",
    "sns.distplot(s_carat, color=\"rebeccapurple\", bins = 10)"
   ]
  },
  {
   "cell_type": "markdown",
   "metadata": {},
   "source": [
    "Now we can compare the descriptive stats of our initial carat values vs simulated:"
   ]
  },
  {
   "cell_type": "code",
   "execution_count": 40,
   "metadata": {},
   "outputs": [
    {
     "data": {
      "text/plain": [
       "count    21543.000000\n",
       "mean         0.702695\n",
       "std          0.432821\n",
       "min          0.200000\n",
       "25%          0.350000\n",
       "50%          0.540000\n",
       "75%          1.010000\n",
       "max          3.500000\n",
       "Name: carat, dtype: float64"
      ]
     },
     "execution_count": 40,
     "metadata": {},
     "output_type": "execute_result"
    }
   ],
   "source": [
    "# initial carat descriptive stats:\n",
    "df['carat'].describe()"
   ]
  },
  {
   "cell_type": "code",
   "execution_count": 41,
   "metadata": {},
   "outputs": [
    {
     "name": "stdout",
     "output_type": "stream",
     "text": [
      "Minimum carat: 0.19\n",
      "Maximum carat: 3.89\n",
      "Mean of simulated carat: 0.75\n",
      "Standard deviation of simulated carat: 0.45\n"
     ]
    }
   ],
   "source": [
    "# simulated descriptive stats of carat:\n",
    "print('Minimum carat: ' + str(np.amin(s_carat).round(2)))\n",
    "print('Maximum carat: ' + str(np.amax(s_carat).round(2)))\n",
    "\n",
    "sim_mean_c = np.mean(s_carat).round(2)\n",
    "sim_std_c = np.std(s_carat).round(2)\n",
    "\n",
    "print('Mean of simulated carat: ' + str(sim_mean_c))\n",
    "print('Standard deviation of simulated carat: ' + str(sim_std_c))"
   ]
  },
  {
   "cell_type": "markdown",
   "metadata": {},
   "source": [
    "Comparing min, max, mean and standard deviation of the simulated carats versus initial measurements, we see that there is no big variance between two measurement sets."
   ]
  },
  {
   "cell_type": "markdown",
   "metadata": {},
   "source": [
    "Let's check the differences between two datasets (initial and simulated) between carat and width:"
   ]
  },
  {
   "cell_type": "code",
   "execution_count": 42,
   "metadata": {},
   "outputs": [
    {
     "data": {
      "text/plain": [
       "<matplotlib.collections.PathCollection at 0x2cd930aa240>"
      ]
     },
     "execution_count": 42,
     "metadata": {},
     "output_type": "execute_result"
    },
    {
     "data": {
      "image/png": "[encoded data removed]",
      "text/plain": [
       "<Figure size 720x288 with 2 Axes>"
      ]
     },
     "metadata": {
      "needs_background": "light"
     },
     "output_type": "display_data"
    }
   ],
   "source": [
    "fig = plt.figure(figsize=(10,4))\n",
    "title = fig.suptitle(\"Carat and width correlation\", fontsize=14)\n",
    "fig.subplots_adjust(top=0.85, wspace=0.3)\n",
    "\n",
    "ax1 = fig.add_subplot(1,2,1)\n",
    "ax1.set_title(\"Initial\")\n",
    "plt.scatter(df['carat'], df['width'], color=\"rebeccapurple\")\n",
    "\n",
    "ax2 = fig.add_subplot(1,2,2)\n",
    "ax2.set_title(\"Simulation\")\n",
    "plt.scatter(s_carat, s_width, color=\"rebeccapurple\")"
   ]
  },
  {
   "cell_type": "markdown",
   "metadata": {},
   "source": [
    "Again, if we won't take into consideration few outliers in the initial dataset the correlation of graphs looks very similar. The same can be applied for the graphs below, where we are comparing the correlation between carat and depth:"
   ]
  },
  {
   "cell_type": "code",
   "execution_count": 43,
   "metadata": {},
   "outputs": [
    {
     "data": {
      "text/plain": [
       "<matplotlib.collections.PathCollection at 0x2cd91d5e7f0>"
      ]
     },
     "execution_count": 43,
     "metadata": {},
     "output_type": "execute_result"
    },
    {
     "data": {
      "image/png": "[encoded data removed]",
      "text/plain": [
       "<Figure size 720x288 with 2 Axes>"
      ]
     },
     "metadata": {
      "needs_background": "light"
     },
     "output_type": "display_data"
    }
   ],
   "source": [
    "fig = plt.figure(figsize=(10,4))\n",
    "title = fig.suptitle(\"Carat and depth correlation\", fontsize=14)\n",
    "fig.subplots_adjust(top=0.85, wspace=0.3)\n",
    "\n",
    "ax1 = fig.add_subplot(1,2,1)\n",
    "ax1.set_title(\"Initial\")\n",
    "plt.scatter(df['carat'], df['depth'], color=\"rebeccapurple\")\n",
    "\n",
    "ax2 = fig.add_subplot(1,2,2)\n",
    "ax2.set_title(\"Simulation\")\n",
    "plt.scatter(s_carat, s_depth, color=\"rebeccapurple\")"
   ]
  },
  {
   "cell_type": "markdown",
   "metadata": {},
   "source": [
    "<a id=\"dataset\"></a>"
   ]
  },
  {
   "cell_type": "markdown",
   "metadata": {},
   "source": [
    "## **5. Simulated dataset**"
   ]
  },
  {
   "cell_type": "markdown",
   "metadata": {},
   "source": [
    "After we run some statistical comparison for the initial dataset and the one we have simulated using numpy.random package, we can put together our variables into a dataset:"
   ]
  },
  {
   "cell_type": "code",
   "execution_count": 44,
   "metadata": {},
   "outputs": [
    {
     "data": {
      "text/html": [
       "<div>\n",
       "<style scoped>\n",
       "    .dataframe tbody tr th:only-of-type {\n",
       "        vertical-align: middle;\n",
       "    }\n",
       "\n",
       "    .dataframe tbody tr th {\n",
       "        vertical-align: top;\n",
       "    }\n",
       "\n",
       "    .dataframe thead th {\n",
       "        text-align: right;\n",
       "    }\n",
       "</style>\n",
       "<table border=\"1\" class=\"dataframe\">\n",
       "  <thead>\n",
       "    <tr style=\"text-align: right;\">\n",
       "      <th></th>\n",
       "      <th>Price</th>\n",
       "      <th>Length</th>\n",
       "      <th>Width</th>\n",
       "      <th>Depth</th>\n",
       "      <th>Carat</th>\n",
       "    </tr>\n",
       "  </thead>\n",
       "  <tbody>\n",
       "    <tr>\n",
       "      <th>0</th>\n",
       "      <td>610</td>\n",
       "      <td>4.35</td>\n",
       "      <td>4.48</td>\n",
       "      <td>2.69</td>\n",
       "      <td>0.35</td>\n",
       "    </tr>\n",
       "    <tr>\n",
       "      <th>1</th>\n",
       "      <td>3214</td>\n",
       "      <td>5.36</td>\n",
       "      <td>5.53</td>\n",
       "      <td>3.33</td>\n",
       "      <td>0.62</td>\n",
       "    </tr>\n",
       "    <tr>\n",
       "      <th>2</th>\n",
       "      <td>3607</td>\n",
       "      <td>6.12</td>\n",
       "      <td>6.24</td>\n",
       "      <td>3.79</td>\n",
       "      <td>0.84</td>\n",
       "    </tr>\n",
       "    <tr>\n",
       "      <th>3</th>\n",
       "      <td>2431</td>\n",
       "      <td>5.44</td>\n",
       "      <td>5.61</td>\n",
       "      <td>3.39</td>\n",
       "      <td>0.67</td>\n",
       "    </tr>\n",
       "    <tr>\n",
       "      <th>4</th>\n",
       "      <td>14496</td>\n",
       "      <td>9.08</td>\n",
       "      <td>9.20</td>\n",
       "      <td>5.54</td>\n",
       "      <td>3.00</td>\n",
       "    </tr>\n",
       "    <tr>\n",
       "      <th>5</th>\n",
       "      <td>13913</td>\n",
       "      <td>6.89</td>\n",
       "      <td>6.98</td>\n",
       "      <td>4.21</td>\n",
       "      <td>1.25</td>\n",
       "    </tr>\n",
       "    <tr>\n",
       "      <th>6</th>\n",
       "      <td>1239</td>\n",
       "      <td>4.71</td>\n",
       "      <td>4.89</td>\n",
       "      <td>2.97</td>\n",
       "      <td>0.44</td>\n",
       "    </tr>\n",
       "    <tr>\n",
       "      <th>7</th>\n",
       "      <td>1315</td>\n",
       "      <td>4.74</td>\n",
       "      <td>4.76</td>\n",
       "      <td>2.97</td>\n",
       "      <td>0.42</td>\n",
       "    </tr>\n",
       "    <tr>\n",
       "      <th>8</th>\n",
       "      <td>419</td>\n",
       "      <td>4.08</td>\n",
       "      <td>4.15</td>\n",
       "      <td>2.56</td>\n",
       "      <td>0.27</td>\n",
       "    </tr>\n",
       "    <tr>\n",
       "      <th>9</th>\n",
       "      <td>4880</td>\n",
       "      <td>6.76</td>\n",
       "      <td>6.87</td>\n",
       "      <td>4.17</td>\n",
       "      <td>1.13</td>\n",
       "    </tr>\n",
       "    <tr>\n",
       "      <th>10</th>\n",
       "      <td>7243</td>\n",
       "      <td>8.29</td>\n",
       "      <td>8.36</td>\n",
       "      <td>5.22</td>\n",
       "      <td>2.22</td>\n",
       "    </tr>\n",
       "    <tr>\n",
       "      <th>11</th>\n",
       "      <td>1899</td>\n",
       "      <td>4.63</td>\n",
       "      <td>4.67</td>\n",
       "      <td>2.85</td>\n",
       "      <td>0.41</td>\n",
       "    </tr>\n",
       "    <tr>\n",
       "      <th>12</th>\n",
       "      <td>4951</td>\n",
       "      <td>6.45</td>\n",
       "      <td>6.52</td>\n",
       "      <td>3.95</td>\n",
       "      <td>1.07</td>\n",
       "    </tr>\n",
       "    <tr>\n",
       "      <th>13</th>\n",
       "      <td>1251</td>\n",
       "      <td>5.90</td>\n",
       "      <td>5.96</td>\n",
       "      <td>3.67</td>\n",
       "      <td>0.79</td>\n",
       "    </tr>\n",
       "    <tr>\n",
       "      <th>14</th>\n",
       "      <td>2397</td>\n",
       "      <td>5.62</td>\n",
       "      <td>5.75</td>\n",
       "      <td>3.52</td>\n",
       "      <td>0.66</td>\n",
       "    </tr>\n",
       "    <tr>\n",
       "      <th>15</th>\n",
       "      <td>1300</td>\n",
       "      <td>5.44</td>\n",
       "      <td>5.56</td>\n",
       "      <td>3.35</td>\n",
       "      <td>0.62</td>\n",
       "    </tr>\n",
       "    <tr>\n",
       "      <th>16</th>\n",
       "      <td>3871</td>\n",
       "      <td>6.26</td>\n",
       "      <td>6.41</td>\n",
       "      <td>3.81</td>\n",
       "      <td>0.97</td>\n",
       "    </tr>\n",
       "    <tr>\n",
       "      <th>17</th>\n",
       "      <td>2042</td>\n",
       "      <td>6.20</td>\n",
       "      <td>6.33</td>\n",
       "      <td>3.88</td>\n",
       "      <td>0.94</td>\n",
       "    </tr>\n",
       "    <tr>\n",
       "      <th>18</th>\n",
       "      <td>1631</td>\n",
       "      <td>5.57</td>\n",
       "      <td>5.70</td>\n",
       "      <td>3.49</td>\n",
       "      <td>0.67</td>\n",
       "    </tr>\n",
       "    <tr>\n",
       "      <th>19</th>\n",
       "      <td>1668</td>\n",
       "      <td>4.04</td>\n",
       "      <td>4.19</td>\n",
       "      <td>2.51</td>\n",
       "      <td>0.27</td>\n",
       "    </tr>\n",
       "    <tr>\n",
       "      <th>20</th>\n",
       "      <td>9292</td>\n",
       "      <td>7.30</td>\n",
       "      <td>7.42</td>\n",
       "      <td>4.54</td>\n",
       "      <td>1.47</td>\n",
       "    </tr>\n",
       "    <tr>\n",
       "      <th>21</th>\n",
       "      <td>1169</td>\n",
       "      <td>4.98</td>\n",
       "      <td>5.11</td>\n",
       "      <td>3.07</td>\n",
       "      <td>0.47</td>\n",
       "    </tr>\n",
       "    <tr>\n",
       "      <th>22</th>\n",
       "      <td>730</td>\n",
       "      <td>4.87</td>\n",
       "      <td>4.91</td>\n",
       "      <td>2.99</td>\n",
       "      <td>0.46</td>\n",
       "    </tr>\n",
       "    <tr>\n",
       "      <th>23</th>\n",
       "      <td>1801</td>\n",
       "      <td>6.63</td>\n",
       "      <td>6.69</td>\n",
       "      <td>4.07</td>\n",
       "      <td>1.20</td>\n",
       "    </tr>\n",
       "    <tr>\n",
       "      <th>24</th>\n",
       "      <td>374</td>\n",
       "      <td>4.02</td>\n",
       "      <td>4.13</td>\n",
       "      <td>2.41</td>\n",
       "      <td>0.23</td>\n",
       "    </tr>\n",
       "    <tr>\n",
       "      <th>25</th>\n",
       "      <td>8489</td>\n",
       "      <td>6.32</td>\n",
       "      <td>6.45</td>\n",
       "      <td>3.86</td>\n",
       "      <td>0.99</td>\n",
       "    </tr>\n",
       "    <tr>\n",
       "      <th>26</th>\n",
       "      <td>8652</td>\n",
       "      <td>5.97</td>\n",
       "      <td>6.15</td>\n",
       "      <td>3.70</td>\n",
       "      <td>0.78</td>\n",
       "    </tr>\n",
       "    <tr>\n",
       "      <th>27</th>\n",
       "      <td>1010</td>\n",
       "      <td>5.65</td>\n",
       "      <td>5.78</td>\n",
       "      <td>3.47</td>\n",
       "      <td>0.74</td>\n",
       "    </tr>\n",
       "    <tr>\n",
       "      <th>28</th>\n",
       "      <td>956</td>\n",
       "      <td>5.13</td>\n",
       "      <td>5.18</td>\n",
       "      <td>3.26</td>\n",
       "      <td>0.58</td>\n",
       "    </tr>\n",
       "    <tr>\n",
       "      <th>29</th>\n",
       "      <td>1476</td>\n",
       "      <td>4.23</td>\n",
       "      <td>4.42</td>\n",
       "      <td>2.67</td>\n",
       "      <td>0.29</td>\n",
       "    </tr>\n",
       "    <tr>\n",
       "      <th>...</th>\n",
       "      <td>...</td>\n",
       "      <td>...</td>\n",
       "      <td>...</td>\n",
       "      <td>...</td>\n",
       "      <td>...</td>\n",
       "    </tr>\n",
       "    <tr>\n",
       "      <th>19970</th>\n",
       "      <td>5017</td>\n",
       "      <td>5.97</td>\n",
       "      <td>6.06</td>\n",
       "      <td>3.70</td>\n",
       "      <td>0.79</td>\n",
       "    </tr>\n",
       "    <tr>\n",
       "      <th>19971</th>\n",
       "      <td>1958</td>\n",
       "      <td>6.12</td>\n",
       "      <td>6.28</td>\n",
       "      <td>3.74</td>\n",
       "      <td>0.82</td>\n",
       "    </tr>\n",
       "    <tr>\n",
       "      <th>19972</th>\n",
       "      <td>848</td>\n",
       "      <td>5.32</td>\n",
       "      <td>5.45</td>\n",
       "      <td>3.28</td>\n",
       "      <td>0.56</td>\n",
       "    </tr>\n",
       "    <tr>\n",
       "      <th>19973</th>\n",
       "      <td>4846</td>\n",
       "      <td>6.79</td>\n",
       "      <td>6.91</td>\n",
       "      <td>4.12</td>\n",
       "      <td>1.10</td>\n",
       "    </tr>\n",
       "    <tr>\n",
       "      <th>19974</th>\n",
       "      <td>3472</td>\n",
       "      <td>7.36</td>\n",
       "      <td>7.46</td>\n",
       "      <td>4.56</td>\n",
       "      <td>1.65</td>\n",
       "    </tr>\n",
       "    <tr>\n",
       "      <th>19975</th>\n",
       "      <td>3234</td>\n",
       "      <td>6.89</td>\n",
       "      <td>6.95</td>\n",
       "      <td>4.26</td>\n",
       "      <td>1.19</td>\n",
       "    </tr>\n",
       "    <tr>\n",
       "      <th>19976</th>\n",
       "      <td>1923</td>\n",
       "      <td>6.15</td>\n",
       "      <td>6.25</td>\n",
       "      <td>3.83</td>\n",
       "      <td>0.85</td>\n",
       "    </tr>\n",
       "    <tr>\n",
       "      <th>19977</th>\n",
       "      <td>673</td>\n",
       "      <td>3.91</td>\n",
       "      <td>4.03</td>\n",
       "      <td>2.43</td>\n",
       "      <td>0.23</td>\n",
       "    </tr>\n",
       "    <tr>\n",
       "      <th>19978</th>\n",
       "      <td>2498</td>\n",
       "      <td>5.85</td>\n",
       "      <td>6.03</td>\n",
       "      <td>3.71</td>\n",
       "      <td>0.87</td>\n",
       "    </tr>\n",
       "    <tr>\n",
       "      <th>19979</th>\n",
       "      <td>541</td>\n",
       "      <td>3.81</td>\n",
       "      <td>3.87</td>\n",
       "      <td>2.32</td>\n",
       "      <td>0.20</td>\n",
       "    </tr>\n",
       "    <tr>\n",
       "      <th>19980</th>\n",
       "      <td>1619</td>\n",
       "      <td>5.18</td>\n",
       "      <td>5.32</td>\n",
       "      <td>3.22</td>\n",
       "      <td>0.57</td>\n",
       "    </tr>\n",
       "    <tr>\n",
       "      <th>19981</th>\n",
       "      <td>1411</td>\n",
       "      <td>4.24</td>\n",
       "      <td>4.33</td>\n",
       "      <td>2.49</td>\n",
       "      <td>0.28</td>\n",
       "    </tr>\n",
       "    <tr>\n",
       "      <th>19982</th>\n",
       "      <td>1949</td>\n",
       "      <td>5.39</td>\n",
       "      <td>5.43</td>\n",
       "      <td>3.32</td>\n",
       "      <td>0.60</td>\n",
       "    </tr>\n",
       "    <tr>\n",
       "      <th>19983</th>\n",
       "      <td>9497</td>\n",
       "      <td>7.81</td>\n",
       "      <td>7.91</td>\n",
       "      <td>4.89</td>\n",
       "      <td>1.79</td>\n",
       "    </tr>\n",
       "    <tr>\n",
       "      <th>19984</th>\n",
       "      <td>7489</td>\n",
       "      <td>7.44</td>\n",
       "      <td>7.57</td>\n",
       "      <td>4.62</td>\n",
       "      <td>1.51</td>\n",
       "    </tr>\n",
       "    <tr>\n",
       "      <th>19985</th>\n",
       "      <td>6510</td>\n",
       "      <td>5.26</td>\n",
       "      <td>5.40</td>\n",
       "      <td>3.19</td>\n",
       "      <td>0.53</td>\n",
       "    </tr>\n",
       "    <tr>\n",
       "      <th>19986</th>\n",
       "      <td>785</td>\n",
       "      <td>4.14</td>\n",
       "      <td>4.23</td>\n",
       "      <td>2.61</td>\n",
       "      <td>0.28</td>\n",
       "    </tr>\n",
       "    <tr>\n",
       "      <th>19987</th>\n",
       "      <td>3493</td>\n",
       "      <td>6.42</td>\n",
       "      <td>6.44</td>\n",
       "      <td>4.01</td>\n",
       "      <td>0.97</td>\n",
       "    </tr>\n",
       "    <tr>\n",
       "      <th>19988</th>\n",
       "      <td>7006</td>\n",
       "      <td>6.80</td>\n",
       "      <td>6.90</td>\n",
       "      <td>4.19</td>\n",
       "      <td>1.13</td>\n",
       "    </tr>\n",
       "    <tr>\n",
       "      <th>19989</th>\n",
       "      <td>2305</td>\n",
       "      <td>4.95</td>\n",
       "      <td>5.04</td>\n",
       "      <td>3.00</td>\n",
       "      <td>0.50</td>\n",
       "    </tr>\n",
       "    <tr>\n",
       "      <th>19990</th>\n",
       "      <td>1555</td>\n",
       "      <td>3.77</td>\n",
       "      <td>3.93</td>\n",
       "      <td>2.34</td>\n",
       "      <td>0.22</td>\n",
       "    </tr>\n",
       "    <tr>\n",
       "      <th>19991</th>\n",
       "      <td>399</td>\n",
       "      <td>4.03</td>\n",
       "      <td>4.09</td>\n",
       "      <td>2.52</td>\n",
       "      <td>0.25</td>\n",
       "    </tr>\n",
       "    <tr>\n",
       "      <th>19992</th>\n",
       "      <td>1848</td>\n",
       "      <td>4.76</td>\n",
       "      <td>4.91</td>\n",
       "      <td>2.97</td>\n",
       "      <td>0.43</td>\n",
       "    </tr>\n",
       "    <tr>\n",
       "      <th>19993</th>\n",
       "      <td>1494</td>\n",
       "      <td>5.77</td>\n",
       "      <td>5.84</td>\n",
       "      <td>3.59</td>\n",
       "      <td>0.74</td>\n",
       "    </tr>\n",
       "    <tr>\n",
       "      <th>19994</th>\n",
       "      <td>2451</td>\n",
       "      <td>6.26</td>\n",
       "      <td>6.41</td>\n",
       "      <td>3.84</td>\n",
       "      <td>0.89</td>\n",
       "    </tr>\n",
       "    <tr>\n",
       "      <th>19995</th>\n",
       "      <td>1656</td>\n",
       "      <td>5.77</td>\n",
       "      <td>5.92</td>\n",
       "      <td>3.50</td>\n",
       "      <td>0.70</td>\n",
       "    </tr>\n",
       "    <tr>\n",
       "      <th>19996</th>\n",
       "      <td>1833</td>\n",
       "      <td>5.25</td>\n",
       "      <td>5.38</td>\n",
       "      <td>3.20</td>\n",
       "      <td>0.57</td>\n",
       "    </tr>\n",
       "    <tr>\n",
       "      <th>19997</th>\n",
       "      <td>6538</td>\n",
       "      <td>8.14</td>\n",
       "      <td>8.27</td>\n",
       "      <td>4.96</td>\n",
       "      <td>2.06</td>\n",
       "    </tr>\n",
       "    <tr>\n",
       "      <th>19998</th>\n",
       "      <td>5233</td>\n",
       "      <td>6.30</td>\n",
       "      <td>6.33</td>\n",
       "      <td>3.87</td>\n",
       "      <td>0.96</td>\n",
       "    </tr>\n",
       "    <tr>\n",
       "      <th>19999</th>\n",
       "      <td>1372</td>\n",
       "      <td>5.79</td>\n",
       "      <td>5.87</td>\n",
       "      <td>3.60</td>\n",
       "      <td>0.70</td>\n",
       "    </tr>\n",
       "  </tbody>\n",
       "</table>\n",
       "<p>20000 rows × 5 columns</p>\n",
       "</div>"
      ],
      "text/plain": [
       "       Price  Length  Width  Depth  Carat\n",
       "0        610    4.35   4.48   2.69   0.35\n",
       "1       3214    5.36   5.53   3.33   0.62\n",
       "2       3607    6.12   6.24   3.79   0.84\n",
       "3       2431    5.44   5.61   3.39   0.67\n",
       "4      14496    9.08   9.20   5.54   3.00\n",
       "5      13913    6.89   6.98   4.21   1.25\n",
       "6       1239    4.71   4.89   2.97   0.44\n",
       "7       1315    4.74   4.76   2.97   0.42\n",
       "8        419    4.08   4.15   2.56   0.27\n",
       "9       4880    6.76   6.87   4.17   1.13\n",
       "10      7243    8.29   8.36   5.22   2.22\n",
       "11      1899    4.63   4.67   2.85   0.41\n",
       "12      4951    6.45   6.52   3.95   1.07\n",
       "13      1251    5.90   5.96   3.67   0.79\n",
       "14      2397    5.62   5.75   3.52   0.66\n",
       "15      1300    5.44   5.56   3.35   0.62\n",
       "16      3871    6.26   6.41   3.81   0.97\n",
       "17      2042    6.20   6.33   3.88   0.94\n",
       "18      1631    5.57   5.70   3.49   0.67\n",
       "19      1668    4.04   4.19   2.51   0.27\n",
       "20      9292    7.30   7.42   4.54   1.47\n",
       "21      1169    4.98   5.11   3.07   0.47\n",
       "22       730    4.87   4.91   2.99   0.46\n",
       "23      1801    6.63   6.69   4.07   1.20\n",
       "24       374    4.02   4.13   2.41   0.23\n",
       "25      8489    6.32   6.45   3.86   0.99\n",
       "26      8652    5.97   6.15   3.70   0.78\n",
       "27      1010    5.65   5.78   3.47   0.74\n",
       "28       956    5.13   5.18   3.26   0.58\n",
       "29      1476    4.23   4.42   2.67   0.29\n",
       "...      ...     ...    ...    ...    ...\n",
       "19970   5017    5.97   6.06   3.70   0.79\n",
       "19971   1958    6.12   6.28   3.74   0.82\n",
       "19972    848    5.32   5.45   3.28   0.56\n",
       "19973   4846    6.79   6.91   4.12   1.10\n",
       "19974   3472    7.36   7.46   4.56   1.65\n",
       "19975   3234    6.89   6.95   4.26   1.19\n",
       "19976   1923    6.15   6.25   3.83   0.85\n",
       "19977    673    3.91   4.03   2.43   0.23\n",
       "19978   2498    5.85   6.03   3.71   0.87\n",
       "19979    541    3.81   3.87   2.32   0.20\n",
       "19980   1619    5.18   5.32   3.22   0.57\n",
       "19981   1411    4.24   4.33   2.49   0.28\n",
       "19982   1949    5.39   5.43   3.32   0.60\n",
       "19983   9497    7.81   7.91   4.89   1.79\n",
       "19984   7489    7.44   7.57   4.62   1.51\n",
       "19985   6510    5.26   5.40   3.19   0.53\n",
       "19986    785    4.14   4.23   2.61   0.28\n",
       "19987   3493    6.42   6.44   4.01   0.97\n",
       "19988   7006    6.80   6.90   4.19   1.13\n",
       "19989   2305    4.95   5.04   3.00   0.50\n",
       "19990   1555    3.77   3.93   2.34   0.22\n",
       "19991    399    4.03   4.09   2.52   0.25\n",
       "19992   1848    4.76   4.91   2.97   0.43\n",
       "19993   1494    5.77   5.84   3.59   0.74\n",
       "19994   2451    6.26   6.41   3.84   0.89\n",
       "19995   1656    5.77   5.92   3.50   0.70\n",
       "19996   1833    5.25   5.38   3.20   0.57\n",
       "19997   6538    8.14   8.27   4.96   2.06\n",
       "19998   5233    6.30   6.33   3.87   0.96\n",
       "19999   1372    5.79   5.87   3.60   0.70\n",
       "\n",
       "[20000 rows x 5 columns]"
      ]
     },
     "execution_count": 44,
     "metadata": {},
     "output_type": "execute_result"
    }
   ],
   "source": [
    "s_df = pd.DataFrame({'Price': s_price, 'Length': s_length, 'Width': s_width, 'Depth': s_depth, 'Carat': s_carat})\n",
    "s_df"
   ]
  },
  {
   "cell_type": "markdown",
   "metadata": {},
   "source": [
    "<a id=\"references\"></a>"
   ]
  },
  {
   "cell_type": "markdown",
   "metadata": {},
   "source": [
    "### **6. References**"
   ]
  },
  {
   "cell_type": "markdown",
   "metadata": {},
   "source": [
    "1. Diamond dataset[Online]. Available from: https://www.kaggle.com/shivam2503/diamonds [Viewed 15 November 2019]\n",
    "2. History of Diamonds [Online]. Available from: https://www.brilliance.com/education/diamonds/history [Viewed 30 November 2019]\n",
    "3. Wikipedia.Diamond [Online]. Available from: https://en.wikipedia.org/wiki/Diamond. [Viewed 30 November 2019]\n",
    "4. the w.c. BLOG, 19 September 2019. What is the Largest Diamond in the World? [Online]. Available from:https://www.withclarity.com/blog/2019/09/19/largest-diamond-in-the-world/[Viewed 1 December 2019]\n",
    "5. Stack Overflow.How to do exponential and logarithmic curve fitting in Python? [Online]. Available from: https://stackoverflow.com/questions/3433486/how-to-do-exponential-and-logarithmic-curve-fitting-in-python-i-found-only-poly [Viewed 23 November 2019]\n",
    "6. SciPy.org tutorials. Scipy.optimize.curve_fit [Online]. Available from:  https://docs.scipy.org/doc/scipy/reference/generated/scipy.optimize.curve_fit.html [Viewed 22 November 2019]\n",
    "7. McLoughlin, Ian. Lecture: \"Simple linear regression: best fit line\" [Online]. Available from: https://web.microsoftstream.com/video/021a0f49-a019-4119-a08c-7601a9a7d0b5?list=user&userId=20b32719-41e8-4560-9f7f-c83ba751229c [Viewed 30 November 2019]\n",
    "8. SciPy.org tutorials. Numpy.polifit [Online]. Available from: https://docs.scipy.org/doc/numpy/reference/generated/numpy.polyfit.html [Viewed 29 November 2019]\n",
    "9. SciPy.org tutorials. Numpy.random.uniform [Online]. Available from: https://docs.scipy.org/doc/numpy-1.14.1/reference/generated/numpy.random.uniform.html [Viewed 22 November 2019]\n",
    "10. Jewelry Notes. How to Calculate a Diamond’s Weight in Carats [Online]. Available from: https://www.jewelrynotes.com/how-to-calculate-a-diamonds-weight-in-carats/ [Viewed 30 November 2019]\n",
    "11. Tripod. Diamond Weight Estimation [Online]. Available from: http://famousdiamonds.tripod.com/diamondweightestimation.html [Viewed 1 December 2019]"
   ]
  },
  {
   "cell_type": "code",
   "execution_count": null,
   "metadata": {},
   "outputs": [],
   "source": []
  }
 ],
 "metadata": {
  "kernelspec": {
   "display_name": "Python 3",
   "language": "python",
   "name": "python3"
  },
  "language_info": {
   "codemirror_mode": {
    "name": "ipython",
    "version": 3
   },
   "file_extension": ".py",
   "mimetype": "text/x-python",
   "name": "python",
   "nbconvert_exporter": "python",
   "pygments_lexer": "ipython3",
   "version": "3.7.3"
  }
 },
 "nbformat": 4,
 "nbformat_minor": 4
}
