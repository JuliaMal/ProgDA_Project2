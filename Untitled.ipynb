{
 "cells": [
  {
   "cell_type": "code",
   "execution_count": 17,
   "metadata": {},
   "outputs": [],
   "source": [
    "import numpy as np\n",
    "import pandas as pd\n",
    "from scipy import stats\n",
    "import matplotlib.pyplot as plt\n",
    "import matplotlib\n",
    "import seaborn as sns\n",
    "import matplotlib.pyplot as plt\n",
    "from scipy.optimize import curve_fit"
   ]
  },
  {
   "cell_type": "code",
   "execution_count": 18,
   "metadata": {},
   "outputs": [
    {
     "data": {
      "text/html": [
       "<div>\n",
       "<style scoped>\n",
       "    .dataframe tbody tr th:only-of-type {\n",
       "        vertical-align: middle;\n",
       "    }\n",
       "\n",
       "    .dataframe tbody tr th {\n",
       "        vertical-align: top;\n",
       "    }\n",
       "\n",
       "    .dataframe thead th {\n",
       "        text-align: right;\n",
       "    }\n",
       "</style>\n",
       "<table border=\"1\" class=\"dataframe\">\n",
       "  <thead>\n",
       "    <tr style=\"text-align: right;\">\n",
       "      <th></th>\n",
       "      <th>price</th>\n",
       "      <th>carat</th>\n",
       "      <th>total_depth_%</th>\n",
       "      <th>table</th>\n",
       "      <th>length</th>\n",
       "      <th>width</th>\n",
       "      <th>depth</th>\n",
       "      <th>cut</th>\n",
       "      <th>color</th>\n",
       "      <th>clarity</th>\n",
       "      <th>color_mod</th>\n",
       "      <th>clarity_mod</th>\n",
       "    </tr>\n",
       "  </thead>\n",
       "  <tbody>\n",
       "    <tr>\n",
       "      <th>0</th>\n",
       "      <td>326</td>\n",
       "      <td>0.23</td>\n",
       "      <td>61.5</td>\n",
       "      <td>55.0</td>\n",
       "      <td>3.95</td>\n",
       "      <td>3.98</td>\n",
       "      <td>2.43</td>\n",
       "      <td>Ideal</td>\n",
       "      <td>E</td>\n",
       "      <td>SI2</td>\n",
       "      <td>2</td>\n",
       "      <td>7</td>\n",
       "    </tr>\n",
       "    <tr>\n",
       "      <th>1</th>\n",
       "      <td>340</td>\n",
       "      <td>0.23</td>\n",
       "      <td>62.8</td>\n",
       "      <td>56.0</td>\n",
       "      <td>3.93</td>\n",
       "      <td>3.90</td>\n",
       "      <td>2.46</td>\n",
       "      <td>Ideal</td>\n",
       "      <td>J</td>\n",
       "      <td>VS1</td>\n",
       "      <td>7</td>\n",
       "      <td>4</td>\n",
       "    </tr>\n",
       "    <tr>\n",
       "      <th>2</th>\n",
       "      <td>344</td>\n",
       "      <td>0.31</td>\n",
       "      <td>62.2</td>\n",
       "      <td>54.0</td>\n",
       "      <td>4.35</td>\n",
       "      <td>4.37</td>\n",
       "      <td>2.71</td>\n",
       "      <td>Ideal</td>\n",
       "      <td>J</td>\n",
       "      <td>SI2</td>\n",
       "      <td>7</td>\n",
       "      <td>7</td>\n",
       "    </tr>\n",
       "    <tr>\n",
       "      <th>3</th>\n",
       "      <td>348</td>\n",
       "      <td>0.30</td>\n",
       "      <td>62.0</td>\n",
       "      <td>54.0</td>\n",
       "      <td>4.31</td>\n",
       "      <td>4.34</td>\n",
       "      <td>2.68</td>\n",
       "      <td>Ideal</td>\n",
       "      <td>I</td>\n",
       "      <td>SI2</td>\n",
       "      <td>6</td>\n",
       "      <td>7</td>\n",
       "    </tr>\n",
       "    <tr>\n",
       "      <th>4</th>\n",
       "      <td>403</td>\n",
       "      <td>0.33</td>\n",
       "      <td>61.8</td>\n",
       "      <td>55.0</td>\n",
       "      <td>4.49</td>\n",
       "      <td>4.51</td>\n",
       "      <td>2.78</td>\n",
       "      <td>Ideal</td>\n",
       "      <td>I</td>\n",
       "      <td>SI2</td>\n",
       "      <td>6</td>\n",
       "      <td>7</td>\n",
       "    </tr>\n",
       "  </tbody>\n",
       "</table>\n",
       "</div>"
      ],
      "text/plain": [
       "   price  carat  total_depth_%  table  length  width  depth    cut color  \\\n",
       "0    326   0.23           61.5   55.0    3.95   3.98   2.43  Ideal     E   \n",
       "1    340   0.23           62.8   56.0    3.93   3.90   2.46  Ideal     J   \n",
       "2    344   0.31           62.2   54.0    4.35   4.37   2.71  Ideal     J   \n",
       "3    348   0.30           62.0   54.0    4.31   4.34   2.68  Ideal     I   \n",
       "4    403   0.33           61.8   55.0    4.49   4.51   2.78  Ideal     I   \n",
       "\n",
       "  clarity  color_mod  clarity_mod  \n",
       "0     SI2          2            7  \n",
       "1     VS1          7            4  \n",
       "2     SI2          7            7  \n",
       "3     SI2          6            7  \n",
       "4     SI2          6            7  "
      ]
     },
     "execution_count": 18,
     "metadata": {},
     "output_type": "execute_result"
    }
   ],
   "source": [
    "# Importing the tips dataset from the local file\n",
    "df = pd.read_csv(\"diamonds2.csv\")\n",
    "df.head()"
   ]
  },
  {
   "cell_type": "code",
   "execution_count": null,
   "metadata": {},
   "outputs": [],
   "source": [
    "x = np.array(df['length'])"
   ]
  },
  {
   "cell_type": "code",
   "execution_count": 20,
   "metadata": {},
   "outputs": [
    {
     "data": {
      "text/plain": [
       "array([0.91122658, 1.00157566, 1.50782967, 1.82234424, 1.73267444,\n",
       "       2.00213959, 2.31619519, 2.55505402, 2.32303974, 2.62950993,\n",
       "       2.89169672, 2.94345396, 2.82242205, 2.8163808 , 3.17441538,\n",
       "       3.42171538, 3.26624934, 3.9974286 , 3.47979542, 3.98400389,\n",
       "       3.53138652, 3.54078958, 3.68641383, 4.19281002, 3.97683104,\n",
       "       4.05968437, 3.95182035, 4.01387919, 4.23321548, 3.97611332,\n",
       "       4.31728659, 4.39612235, 4.40171298, 4.61154962, 4.48586588,\n",
       "       5.04496932, 4.32610976, 5.00856146, 4.59798862, 5.20760713,\n",
       "       4.79933623, 5.03760867, 5.06770638, 5.15609879, 5.16423055,\n",
       "       5.14697646, 5.33145019, 5.17638789, 5.12243359, 5.46983051,\n",
       "       5.53336178, 5.97994469, 5.45053405, 5.58204996, 5.72783228,\n",
       "       5.42455817, 5.81977929, 5.48834187, 5.7387728 , 6.06209285,\n",
       "       5.63823836, 5.75893251, 5.83307444, 5.9181389 , 5.90263732,\n",
       "       6.38897494, 6.00273298, 6.0504483 , 6.08748476, 5.92178551,\n",
       "       6.23645722, 6.17198559, 6.31426366, 6.26982252, 6.22466276,\n",
       "       6.37504272, 6.15547468, 6.2967382 , 6.08357043, 6.39768065,\n",
       "       6.46981492, 6.332446  , 6.42262109, 6.12111601, 6.38929914,\n",
       "       6.51320453, 6.41065709, 6.99090805, 6.25878882, 6.64405588,\n",
       "       6.82977895, 6.92858952, 7.1445063 , 6.7924702 , 6.72740075,\n",
       "       7.35341831, 6.95498404, 7.11968628, 6.92730577, 7.04386544])"
      ]
     },
     "execution_count": 20,
     "metadata": {},
     "output_type": "execute_result"
    }
   ],
   "source": [
    "yn"
   ]
  },
  {
   "cell_type": "code",
   "execution_count": 9,
   "metadata": {},
   "outputs": [
    {
     "data": {
      "text/plain": [
       "array([2.50743387, 0.70727249, 2.02601393])"
      ]
     },
     "execution_count": 9,
     "metadata": {},
     "output_type": "execute_result"
    }
   ],
   "source": [
    "popt"
   ]
  },
  {
   "cell_type": "code",
   "execution_count": 10,
   "metadata": {},
   "outputs": [
    {
     "data": {
      "text/plain": [
       "array([[ 3.84663268e-03,  1.48881010e+03, -5.28174612e+03],\n",
       "       [ 1.48881029e+03,  1.50838758e+12, -5.35119719e+12],\n",
       "       [-5.28174682e+03, -5.35119719e+12,  1.89840541e+13]])"
      ]
     },
     "execution_count": 10,
     "metadata": {},
     "output_type": "execute_result"
    }
   ],
   "source": [
    "pcov"
   ]
  },
  {
   "cell_type": "code",
   "execution_count": 46,
   "metadata": {},
   "outputs": [
    {
     "data": {
      "text/plain": [
       "array([ 0.71428611, 18.67461922, -5.38079823])"
      ]
     },
     "execution_count": 46,
     "metadata": {},
     "output_type": "execute_result"
    }
   ],
   "source": [
    "popt"
   ]
  },
  {
   "cell_type": "code",
   "execution_count": 42,
   "metadata": {},
   "outputs": [],
   "source": [
    "A, B, C = popt"
   ]
  },
  {
   "cell_type": "code",
   "execution_count": 49,
   "metadata": {},
   "outputs": [
    {
     "data": {
      "text/plain": [
       "array([ 8.71406272,  8.75611096,  8.767807  , ..., 10.84870097,\n",
       "       10.84906375, 10.84906375])"
      ]
     },
     "execution_count": 49,
     "metadata": {},
     "output_type": "execute_result"
    }
   ],
   "source": [
    "X = 10000\n",
    "Y = A * np.log(B * x) + C\n",
    "np.log(B * x)"
   ]
  },
  {
   "cell_type": "code",
   "execution_count": 41,
   "metadata": {},
   "outputs": [
    {
     "data": {
      "image/png": "[encoded data removed]",
      "text/plain": [
       "<Figure size 432x288 with 1 Axes>"
      ]
     },
     "metadata": {
      "needs_background": "light"
     },
     "output_type": "display_data"
    }
   ],
   "source": [
    "def func(x, a, b, c):\n",
    "    #return a * np.exp(-b * x) + c\n",
    "    return a * np.log2(b * x) + c\n",
    "\n",
    "x = np.array(df['price'])   # changed boundary conditions to avoid division by 0\n",
    "y = func(x, 2.5, 1.3, 0.5)\n",
    "yn = np.array(df['length'])\n",
    "\n",
    "popt, pcov = curve_fit(func, x, yn)\n",
    "\n",
    "plt.figure()\n",
    "plt.plot(x, yn, 'ko', label=\"Original Noised Data\")\n",
    "plt.plot(x, func(x, *popt), 'r-', label=\"Fitted Curve\")\n",
    "plt.legend()\n",
    "plt.show()"
   ]
  },
  {
   "cell_type": "code",
   "execution_count": 3,
   "metadata": {},
   "outputs": [],
   "source": [
    "def func(x, a, b, c):\n",
    "  #return a * np.exp(-b * x) + c\n",
    "  return a * np.log(b * x) + c\n",
    "\n",
    "x = np.linspace(1,5,50)   # changed boundary conditions to avoid division by 0\n",
    "y = func(x, 2.5, 1.3, 0.5)\n",
    "yn = y + 0.2*np.random.normal(size=len(x))"
   ]
  },
  {
   "cell_type": "code",
   "execution_count": 6,
   "metadata": {},
   "outputs": [
    {
     "data": {
      "text/plain": [
       "array([0.95253549, 1.36311417, 1.9116952 , 1.44254841, 1.92087365,\n",
       "       1.84935878, 1.89499782, 2.2707473 , 2.65268953, 2.62643357,\n",
       "       2.53243948, 2.73497967, 2.83336192, 2.84220315, 2.83310121,\n",
       "       3.42180929, 3.64286608, 3.21352718, 3.39511967, 3.12098551,\n",
       "       3.27444085, 3.22448336, 3.75901996, 4.0042482 , 3.88702563,\n",
       "       3.67176501, 3.84869652, 4.10850291, 3.96857641, 4.4973126 ,\n",
       "       3.80799238, 4.51682688, 4.3488989 , 4.2947073 , 4.62251504,\n",
       "       4.6290662 , 4.62529526, 4.41790399, 4.72956749, 5.02561104,\n",
       "       5.08011898, 4.54897881, 4.87243512, 4.69704013, 4.88935855,\n",
       "       5.04113726, 5.48221094, 4.89714188, 5.27208892, 5.16485087])"
      ]
     },
     "execution_count": 6,
     "metadata": {},
     "output_type": "execute_result"
    }
   ],
   "source": [
    "yn"
   ]
  },
  {
   "cell_type": "code",
   "execution_count": null,
   "metadata": {},
   "outputs": [],
   "source": []
  },
  {
   "cell_type": "code",
   "execution_count": null,
   "metadata": {},
   "outputs": [],
   "source": []
  },
  {
   "cell_type": "code",
   "execution_count": 11,
   "metadata": {},
   "outputs": [],
   "source": [
    "import numpy, scipy, matplotlib\n",
    "import pandas as pd\n",
    "import matplotlib.pyplot as plt\n",
    "from scipy.optimize import curve_fit\n",
    "from scipy.optimize import differential_evolution\n",
    "import warnings"
   ]
  },
  {
   "cell_type": "code",
   "execution_count": 12,
   "metadata": {},
   "outputs": [
    {
     "data": {
      "text/html": [
       "<div>\n",
       "<style scoped>\n",
       "    .dataframe tbody tr th:only-of-type {\n",
       "        vertical-align: middle;\n",
       "    }\n",
       "\n",
       "    .dataframe tbody tr th {\n",
       "        vertical-align: top;\n",
       "    }\n",
       "\n",
       "    .dataframe thead th {\n",
       "        text-align: right;\n",
       "    }\n",
       "</style>\n",
       "<table border=\"1\" class=\"dataframe\">\n",
       "  <thead>\n",
       "    <tr style=\"text-align: right;\">\n",
       "      <th></th>\n",
       "      <th>price</th>\n",
       "      <th>carat</th>\n",
       "      <th>total_depth_%</th>\n",
       "      <th>table</th>\n",
       "      <th>length</th>\n",
       "      <th>width</th>\n",
       "      <th>depth</th>\n",
       "      <th>cut</th>\n",
       "      <th>color</th>\n",
       "      <th>clarity</th>\n",
       "      <th>color_mod</th>\n",
       "      <th>clarity_mod</th>\n",
       "    </tr>\n",
       "  </thead>\n",
       "  <tbody>\n",
       "    <tr>\n",
       "      <th>0</th>\n",
       "      <td>326</td>\n",
       "      <td>0.23</td>\n",
       "      <td>61.5</td>\n",
       "      <td>55.0</td>\n",
       "      <td>3.95</td>\n",
       "      <td>3.98</td>\n",
       "      <td>2.43</td>\n",
       "      <td>Ideal</td>\n",
       "      <td>E</td>\n",
       "      <td>SI2</td>\n",
       "      <td>2</td>\n",
       "      <td>7</td>\n",
       "    </tr>\n",
       "    <tr>\n",
       "      <th>1</th>\n",
       "      <td>340</td>\n",
       "      <td>0.23</td>\n",
       "      <td>62.8</td>\n",
       "      <td>56.0</td>\n",
       "      <td>3.93</td>\n",
       "      <td>3.90</td>\n",
       "      <td>2.46</td>\n",
       "      <td>Ideal</td>\n",
       "      <td>J</td>\n",
       "      <td>VS1</td>\n",
       "      <td>7</td>\n",
       "      <td>4</td>\n",
       "    </tr>\n",
       "    <tr>\n",
       "      <th>2</th>\n",
       "      <td>344</td>\n",
       "      <td>0.31</td>\n",
       "      <td>62.2</td>\n",
       "      <td>54.0</td>\n",
       "      <td>4.35</td>\n",
       "      <td>4.37</td>\n",
       "      <td>2.71</td>\n",
       "      <td>Ideal</td>\n",
       "      <td>J</td>\n",
       "      <td>SI2</td>\n",
       "      <td>7</td>\n",
       "      <td>7</td>\n",
       "    </tr>\n",
       "    <tr>\n",
       "      <th>3</th>\n",
       "      <td>348</td>\n",
       "      <td>0.30</td>\n",
       "      <td>62.0</td>\n",
       "      <td>54.0</td>\n",
       "      <td>4.31</td>\n",
       "      <td>4.34</td>\n",
       "      <td>2.68</td>\n",
       "      <td>Ideal</td>\n",
       "      <td>I</td>\n",
       "      <td>SI2</td>\n",
       "      <td>6</td>\n",
       "      <td>7</td>\n",
       "    </tr>\n",
       "    <tr>\n",
       "      <th>4</th>\n",
       "      <td>403</td>\n",
       "      <td>0.33</td>\n",
       "      <td>61.8</td>\n",
       "      <td>55.0</td>\n",
       "      <td>4.49</td>\n",
       "      <td>4.51</td>\n",
       "      <td>2.78</td>\n",
       "      <td>Ideal</td>\n",
       "      <td>I</td>\n",
       "      <td>SI2</td>\n",
       "      <td>6</td>\n",
       "      <td>7</td>\n",
       "    </tr>\n",
       "  </tbody>\n",
       "</table>\n",
       "</div>"
      ],
      "text/plain": [
       "   price  carat  total_depth_%  table  length  width  depth    cut color  \\\n",
       "0    326   0.23           61.5   55.0    3.95   3.98   2.43  Ideal     E   \n",
       "1    340   0.23           62.8   56.0    3.93   3.90   2.46  Ideal     J   \n",
       "2    344   0.31           62.2   54.0    4.35   4.37   2.71  Ideal     J   \n",
       "3    348   0.30           62.0   54.0    4.31   4.34   2.68  Ideal     I   \n",
       "4    403   0.33           61.8   55.0    4.49   4.51   2.78  Ideal     I   \n",
       "\n",
       "  clarity  color_mod  clarity_mod  \n",
       "0     SI2          2            7  \n",
       "1     VS1          7            4  \n",
       "2     SI2          7            7  \n",
       "3     SI2          6            7  \n",
       "4     SI2          6            7  "
      ]
     },
     "execution_count": 12,
     "metadata": {},
     "output_type": "execute_result"
    }
   ],
   "source": [
    "# Importing the tips dataset from the local file\n",
    "df = pd.read_csv(\"diamonds2.csv\")\n",
    "df.head()"
   ]
  },
  {
   "cell_type": "code",
   "execution_count": 13,
   "metadata": {},
   "outputs": [],
   "source": [
    "xData = df['price']\n",
    "yData = df['length']"
   ]
  },
  {
   "cell_type": "code",
   "execution_count": 19,
   "metadata": {},
   "outputs": [],
   "source": [
    "xData = numpy.array(df['price'])\n",
    "yData = numpy.array(df['length'])"
   ]
  },
  {
   "cell_type": "code",
   "execution_count": 20,
   "metadata": {},
   "outputs": [
    {
     "data": {
      "text/plain": [
       "array([3.95, 3.93, 4.35, ..., 5.76, 5.75, 5.83])"
      ]
     },
     "execution_count": 20,
     "metadata": {},
     "output_type": "execute_result"
    }
   ],
   "source": [
    "yData"
   ]
  },
  {
   "cell_type": "code",
   "execution_count": 21,
   "metadata": {},
   "outputs": [
    {
     "name": "stdout",
     "output_type": "stream",
     "text": [
      "Parameters [6.64278072e+03 2.30972247e+03 5.08284402e+00]\n",
      "RMSE: 0.6966085929383166\n",
      "R-squared: 0.5704842764444422\n",
      "\n"
     ]
    }
   ],
   "source": [
    "#xData = numpy.array([19.1647, 18.0189, 16.9550, 15.7683, 14.7044, 13.6269, 12.6040, 11.4309, 10.2987, 9.23465, 8.18440, 7.89789, 7.62498, 7.36571, 7.01106, 6.71094, 6.46548, 6.27436, 6.16543, 6.05569, 5.91904, 5.78247, 5.53661, 4.85425, 4.29468, 3.74888, 3.16206, 2.58882, 1.93371, 1.52426, 1.14211, 0.719035, 0.377708, 0.0226971, -0.223181, -0.537231, -0.878491, -1.27484, -1.45266, -1.57583, -1.61717])\n",
    "#yData = numpy.array([0.644557, 0.641059, 0.637555, 0.634059, 0.634135, 0.631825, 0.631899, 0.627209, 0.622516, 0.617818, 0.616103, 0.613736, 0.610175, 0.606613, 0.605445, 0.603676, 0.604887, 0.600127, 0.604909, 0.588207, 0.581056, 0.576292, 0.566761, 0.555472, 0.545367, 0.538842, 0.529336, 0.518635, 0.506747, 0.499018, 0.491885, 0.484754, 0.475230, 0.464514, 0.454387, 0.444861, 0.437128, 0.415076, 0.401363, 0.390034, 0.378698])\n",
    "xData = numpy.array(df['price'])\n",
    "yData = numpy.array(df['length'])\n",
    "\n",
    "def func(x, a, b, Offset): # Sigmoid A With Offset from zunzun.com\n",
    "    return  1.0 / (1.0 + numpy.exp(-a * (x-b))) + Offset\n",
    "\n",
    "\n",
    "# function for genetic algorithm to minimize (sum of squared error)\n",
    "def sumOfSquaredError(parameterTuple):\n",
    "    warnings.filterwarnings(\"ignore\") # do not print warnings by genetic algorithm\n",
    "    val = func(xData, *parameterTuple)\n",
    "    return numpy.sum((yData - val) ** 2.0)\n",
    "\n",
    "\n",
    "def generate_Initial_Parameters():\n",
    "    # min and max used for bounds\n",
    "    maxX = max(xData)\n",
    "    minX = min(xData)\n",
    "    maxY = max(yData)\n",
    "    minY = min(yData)\n",
    "\n",
    "    parameterBounds = []\n",
    "    parameterBounds.append([minX, maxX]) # seach bounds for a\n",
    "    parameterBounds.append([minX, maxX]) # seach bounds for b\n",
    "    parameterBounds.append([0.0, maxY]) # seach bounds for Offset\n",
    "\n",
    "    # \"seed\" the numpy random number generator for repeatable results\n",
    "    result = differential_evolution(sumOfSquaredError, parameterBounds, seed=3)\n",
    "    return result.x\n",
    "\n",
    "# generate initial parameter values\n",
    "geneticParameters = generate_Initial_Parameters()\n",
    "\n",
    "# curve fit the test data\n",
    "fittedParameters, pcov = curve_fit(func, xData, yData, geneticParameters)\n",
    "\n",
    "print('Parameters', fittedParameters)\n",
    "\n",
    "modelPredictions = func(xData, *fittedParameters) \n",
    "\n",
    "absError = modelPredictions - yData\n",
    "\n",
    "SE = numpy.square(absError) # squared errors\n",
    "MSE = numpy.mean(SE) # mean squared errors\n",
    "RMSE = numpy.sqrt(MSE) # Root Mean Squared Error, RMSE\n",
    "Rsquared = 1.0 - (numpy.var(absError) / numpy.var(yData))\n",
    "print('RMSE:', RMSE)\n",
    "print('R-squared:', Rsquared)\n",
    "\n",
    "print()"
   ]
  },
  {
   "cell_type": "code",
   "execution_count": 24,
   "metadata": {},
   "outputs": [
    {
     "data": {
      "image/png": "[encoded data removed]",
      "text/plain": [
       "<Figure size 800x600 with 1 Axes>"
      ]
     },
     "metadata": {
      "needs_background": "light"
     },
     "output_type": "display_data"
    }
   ],
   "source": [
    "##########################################################\n",
    "# graphics output section\n",
    "def ModelAndScatterPlot(graphWidth, graphHeight):\n",
    "    f = plt.figure(figsize=(graphWidth/100.0, graphHeight/100.0), dpi=100)\n",
    "    axes = f.add_subplot(111)\n",
    "\n",
    "    # first the raw data as a scatter plot\n",
    "    axes.plot(xData, yData,  'D')\n",
    "\n",
    "    # create data for the fitted equation plot\n",
    "    xModel = numpy.linspace(min(xData), max(xData))\n",
    "    yModel = func(xModel, *fittedParameters)\n",
    "\n",
    "    # now the model as a line plot\n",
    "    axes.plot(xModel, yModel)\n",
    "\n",
    "    axes.set_xlabel('X Data') # X axis data label\n",
    "    axes.set_ylabel('Y Data') # Y axis data label\n",
    "\n",
    "    plt.show()\n",
    "    plt.close('all') # clean up after using pyplot\n",
    "\n",
    "graphWidth = 800\n",
    "graphHeight = 600\n",
    "ModelAndScatterPlot(graphWidth, graphHeight)"
   ]
  },
  {
   "cell_type": "code",
   "execution_count": null,
   "metadata": {},
   "outputs": [],
   "source": []
  },
  {
   "cell_type": "code",
   "execution_count": 25,
   "metadata": {},
   "outputs": [],
   "source": [
    "from pylab import *\n",
    "from scipy.optimize import curve_fit"
   ]
  },
  {
   "cell_type": "code",
   "execution_count": null,
   "metadata": {},
   "outputs": [],
   "source": [
    "# Read data.\n",
    "x, y = np.loadtxt('exponential_data.dat', unpack=True)\n",
    "\n",
    "def func(x, a, b, c):\n",
    "    '''Exponential 3-param function.'''\n",
    "    return a * np.exp(b * x) + c\n",
    "\n",
    "# Find best fit.\n",
    "popt, pcov = curve_fit(func, x, y)\n",
    "print popt\n",
    "\n",
    "# Plot data and best fit curve.\n",
    "scatter(x, y)\n",
    "x = linspace(11, 23, 100)\n",
    "plot(x, func(x, *popt), c='r')\n",
    "show()"
   ]
  }
 ],
 "metadata": {
  "kernelspec": {
   "display_name": "Python 3",
   "language": "python",
   "name": "python3"
  },
  "language_info": {
   "codemirror_mode": {
    "name": "ipython",
    "version": 3
   },
   "file_extension": ".py",
   "mimetype": "text/x-python",
   "name": "python",
   "nbconvert_exporter": "python",
   "pygments_lexer": "ipython3",
   "version": "3.7.3"
  }
 },
 "nbformat": 4,
 "nbformat_minor": 4
}
